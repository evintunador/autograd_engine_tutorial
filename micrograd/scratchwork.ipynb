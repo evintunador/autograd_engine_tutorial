{
 "cells": [
  {
   "cell_type": "code",
   "execution_count": 2,
   "metadata": {},
   "outputs": [],
   "source": [
    "import random as r\n",
    "\n",
    "from engine import Value\n",
    "from nn import Module, Neuron, Linear, MLP\n",
    "from gpt import Embedding, layer_norm, pretty_print_tensor"
   ]
  },
  {
   "cell_type": "code",
   "execution_count": 3,
   "metadata": {},
   "outputs": [],
   "source": [
    "batch_size = 2\n",
    "vocab_len = 5\n",
    "model_dim = 4\n",
    "seq_len = 3"
   ]
  },
  {
   "cell_type": "code",
   "execution_count": 15,
   "metadata": {},
   "outputs": [],
   "source": [
    "\n",
    "    "
   ]
  },
  {
   "cell_type": "code",
   "execution_count": 17,
   "metadata": {},
   "outputs": [
    {
     "name": "stdout",
     "output_type": "stream",
     "text": [
      "[\n",
      "  [\n",
      "    [Value(data=0.881, grad=0.000), Value(data=0.337, grad=0.000), Value(data=0.120, grad=0.000), Value(data=0.118, grad=0.000)]\n",
      "    [Value(data=0.649, grad=0.000), Value(data=-0.374, grad=0.000), Value(data=0.506, grad=0.000), Value(data=-0.831, grad=0.000)]\n",
      "    [Value(data=-0.274, grad=0.000), Value(data=0.836, grad=0.000), Value(data=-0.375, grad=0.000), Value(data=-0.089, grad=0.000)]\n",
      "  ]\n",
      "  [\n",
      "    [Value(data=0.414, grad=0.000), Value(data=-0.402, grad=0.000), Value(data=-0.045, grad=0.000), Value(data=-0.093, grad=0.000)]\n",
      "    [Value(data=0.759, grad=0.000), Value(data=0.939, grad=0.000), Value(data=0.800, grad=0.000), Value(data=-0.784, grad=0.000)]\n",
      "    [Value(data=0.020, grad=0.000), Value(data=-0.524, grad=0.000), Value(data=-0.606, grad=0.000), Value(data=0.686, grad=0.000)]\n",
      "  ]\n",
      "]\n",
      "[\n",
      "  [\n",
      "    [Value(data=0.139, grad=0.000), Value(data=-0.405, grad=0.000), Value(data=0.532, grad=0.000), Value(data=0.183, grad=0.000)]\n",
      "    [Value(data=0.532, grad=0.000), Value(data=-0.985, grad=0.000), Value(data=-0.509, grad=0.000), Value(data=0.476, grad=0.000)]\n",
      "    [Value(data=0.608, grad=0.000), Value(data=-0.589, grad=0.000), Value(data=-0.919, grad=0.000), Value(data=0.840, grad=0.000)]\n",
      "  ]\n",
      "  [\n",
      "    [Value(data=-0.965, grad=0.000), Value(data=0.897, grad=0.000), Value(data=0.657, grad=0.000), Value(data=0.645, grad=0.000)]\n",
      "    [Value(data=-0.046, grad=0.000), Value(data=-0.129, grad=0.000), Value(data=0.123, grad=0.000), Value(data=-0.930, grad=0.000)]\n",
      "    [Value(data=-0.670, grad=0.000), Value(data=-0.045, grad=0.000), Value(data=-0.229, grad=0.000), Value(data=-0.669, grad=0.000)]\n",
      "  ]\n",
      "]\n",
      "[\n",
      "  [\n",
      "    [Value(data=1.020, grad=0.000), Value(data=-0.068, grad=0.000), Value(data=0.652, grad=0.000), Value(data=0.301, grad=0.000)]\n",
      "    [Value(data=1.181, grad=0.000), Value(data=-1.359, grad=0.000), Value(data=-0.003, grad=0.000), Value(data=-0.354, grad=0.000)]\n",
      "    [Value(data=0.334, grad=0.000), Value(data=0.247, grad=0.000), Value(data=-1.295, grad=0.000), Value(data=0.751, grad=0.000)]\n",
      "  ]\n",
      "  [\n",
      "    [Value(data=-0.550, grad=0.000), Value(data=0.495, grad=0.000), Value(data=0.611, grad=0.000), Value(data=0.553, grad=0.000)]\n",
      "    [Value(data=0.713, grad=0.000), Value(data=0.811, grad=0.000), Value(data=0.923, grad=0.000), Value(data=-1.714, grad=0.000)]\n",
      "    [Value(data=-0.650, grad=0.000), Value(data=-0.569, grad=0.000), Value(data=-0.835, grad=0.000), Value(data=0.017, grad=0.000)]\n",
      "  ]\n",
      "]\n"
     ]
    }
   ],
   "source": []
  },
  {
   "cell_type": "code",
   "execution_count": null,
   "metadata": {},
   "outputs": [],
   "source": []
  }
 ],
 "metadata": {
  "kernelspec": {
   "display_name": "Python 3 (ipykernel)",
   "language": "python",
   "name": "python3"
  },
  "language_info": {
   "codemirror_mode": {
    "name": "ipython",
    "version": 3
   },
   "file_extension": ".py",
   "mimetype": "text/x-python",
   "name": "python",
   "nbconvert_exporter": "python",
   "pygments_lexer": "ipython3",
   "version": "3.12.4"
  }
 },
 "nbformat": 4,
 "nbformat_minor": 4
}
