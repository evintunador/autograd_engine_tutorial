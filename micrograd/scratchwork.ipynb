{
 "cells": [
  {
   "cell_type": "code",
   "execution_count": 4,
   "metadata": {},
   "outputs": [],
   "source": [
    "import random as r\n",
    "\n",
    "from engine import Value\n",
    "from modules import *\n",
    "from ops import *\n",
    "from gpt import *"
   ]
  },
  {
   "cell_type": "code",
   "execution_count": 6,
   "metadata": {},
   "outputs": [],
   "source": [
    "batch_size = 2\n",
    "vocab_len = 10\n",
    "model_dim = 8\n",
    "max_seq_len = 5\n",
    "seq_len = 3\n",
    "num_heads = 2\n",
    "head_dim = 4"
   ]
  },
  {
   "cell_type": "code",
   "execution_count": 8,
   "metadata": {},
   "outputs": [],
   "source": [
    "def dropout(vec, rate = 0.1):\n",
    "    assert isinstance(vec, list), \"vec should be a list of Value objects\"\n",
    "    assert all(isinstance(x, Value) for x in vec), \"All elements in vec must be Value objects\"\n",
    "    assert 0 <= rate < 1, f\"dropout rate must be scalar value in [0,1) but instead is print({rate})\"\n",
    "    return [xi if r.uniform(0,1) > rate else Value(0.) for xi in vec]\n"
   ]
  },
  {
   "cell_type": "code",
   "execution_count": 10,
   "metadata": {},
   "outputs": [
    {
     "name": "stdout",
     "output_type": "stream",
     "text": [
      "[\n",
      "  [\n",
      "    [Value(data=-0.533, grad=0.000), Value(data=-0.063, grad=0.000), Value(data=-0.971, grad=0.000), Value(data=-0.891, grad=0.000), Value(data=0.670, grad=0.000), Value(data=0.579, grad=0.000), Value(data=-0.589, grad=0.000), Value(data=0.711, grad=0.000)]\n",
      "    [Value(data=-0.808, grad=0.000), Value(data=-0.977, grad=0.000), Value(data=-0.147, grad=0.000), Value(data=0.826, grad=0.000), Value(data=-0.994, grad=0.000), Value(data=-0.680, grad=0.000), Value(data=-0.199, grad=0.000), Value(data=-0.061, grad=0.000)]\n",
      "    [Value(data=-0.665, grad=0.000), Value(data=0.140, grad=0.000), Value(data=-0.448, grad=0.000), Value(data=-0.793, grad=0.000), Value(data=-0.147, grad=0.000), Value(data=0.765, grad=0.000), Value(data=0.887, grad=0.000), Value(data=-0.119, grad=0.000)]\n",
      "  ]\n",
      "  [\n",
      "    [Value(data=-0.909, grad=0.000), Value(data=0.079, grad=0.000), Value(data=-0.479, grad=0.000), Value(data=0.044, grad=0.000), Value(data=-0.571, grad=0.000), Value(data=0.080, grad=0.000), Value(data=0.078, grad=0.000), Value(data=-0.045, grad=0.000)]\n",
      "    [Value(data=-0.433, grad=0.000), Value(data=-0.838, grad=0.000), Value(data=0.855, grad=0.000), Value(data=0.883, grad=0.000), Value(data=0.485, grad=0.000), Value(data=0.132, grad=0.000), Value(data=0.422, grad=0.000), Value(data=0.024, grad=0.000)]\n",
      "    [Value(data=0.855, grad=0.000), Value(data=-0.507, grad=0.000), Value(data=-0.243, grad=0.000), Value(data=-0.236, grad=0.000), Value(data=0.608, grad=0.000), Value(data=0.285, grad=0.000), Value(data=-0.188, grad=0.000), Value(data=0.531, grad=0.000)]\n",
      "  ]\n",
      "]\n",
      "[\n",
      "  [\n",
      "    [Value(data=0.000, grad=0.000), Value(data=-0.063, grad=0.000), Value(data=0.000, grad=0.000), Value(data=0.000, grad=0.000), Value(data=0.000, grad=0.000), Value(data=0.579, grad=0.000), Value(data=0.000, grad=0.000), Value(data=0.711, grad=0.000)]\n",
      "    [Value(data=-0.808, grad=0.000), Value(data=0.000, grad=0.000), Value(data=0.000, grad=0.000), Value(data=0.000, grad=0.000), Value(data=0.000, grad=0.000), Value(data=-0.680, grad=0.000), Value(data=-0.199, grad=0.000), Value(data=-0.061, grad=0.000)]\n",
      "    [Value(data=0.000, grad=0.000), Value(data=0.000, grad=0.000), Value(data=-0.448, grad=0.000), Value(data=0.000, grad=0.000), Value(data=0.000, grad=0.000), Value(data=0.765, grad=0.000), Value(data=0.000, grad=0.000), Value(data=-0.119, grad=0.000)]\n",
      "  ]\n",
      "  [\n",
      "    [Value(data=-0.909, grad=0.000), Value(data=0.079, grad=0.000), Value(data=-0.479, grad=0.000), Value(data=0.044, grad=0.000), Value(data=0.000, grad=0.000), Value(data=0.000, grad=0.000), Value(data=0.078, grad=0.000), Value(data=0.000, grad=0.000)]\n",
      "    [Value(data=0.000, grad=0.000), Value(data=0.000, grad=0.000), Value(data=0.000, grad=0.000), Value(data=0.883, grad=0.000), Value(data=0.000, grad=0.000), Value(data=0.132, grad=0.000), Value(data=0.422, grad=0.000), Value(data=0.000, grad=0.000)]\n",
      "    [Value(data=0.000, grad=0.000), Value(data=-0.507, grad=0.000), Value(data=0.000, grad=0.000), Value(data=-0.236, grad=0.000), Value(data=0.000, grad=0.000), Value(data=0.285, grad=0.000), Value(data=0.000, grad=0.000), Value(data=0.000, grad=0.000)]\n",
      "  ]\n",
      "]\n"
     ]
    }
   ],
   "source": [
    "x = [[[Value(r.uniform(-1,1)) for _ in range(model_dim)]\n",
    "      for _ in range(seq_len)]\n",
    "     for _ in range(batch_size)]\n",
    "pretty_print_tensor(x)\n",
    "rate = 0.5\n",
    "y = vector_wise_apply(dropout, x, rate)\n",
    "pretty_print_tensor(y)"
   ]
  },
  {
   "cell_type": "code",
   "execution_count": null,
   "metadata": {},
   "outputs": [],
   "source": []
  },
  {
   "cell_type": "code",
   "execution_count": null,
   "metadata": {},
   "outputs": [],
   "source": []
  }
 ],
 "metadata": {
  "kernelspec": {
   "display_name": "Python 3 (ipykernel)",
   "language": "python",
   "name": "python3"
  },
  "language_info": {
   "codemirror_mode": {
    "name": "ipython",
    "version": 3
   },
   "file_extension": ".py",
   "mimetype": "text/x-python",
   "name": "python",
   "nbconvert_exporter": "python",
   "pygments_lexer": "ipython3",
   "version": "3.12.4"
  }
 },
 "nbformat": 4,
 "nbformat_minor": 4
}
