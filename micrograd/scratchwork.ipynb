{
 "cells": [
  {
   "cell_type": "code",
   "execution_count": 2,
   "metadata": {},
   "outputs": [],
   "source": [
    "import random as r\n",
    "\n",
    "from engine import Value\n",
    "from modules import *\n",
    "from ops import *\n",
    "from gpt import *"
   ]
  },
  {
   "cell_type": "code",
   "execution_count": 3,
   "metadata": {},
   "outputs": [],
   "source": [
    "batch_size = 2\n",
    "vocab_len = 10\n",
    "model_dim = 4\n",
    "seq_len = 5\n",
    "num_heads = 2\n",
    "head_dim = 2"
   ]
  },
  {
   "cell_type": "code",
   "execution_count": null,
   "metadata": {},
   "outputs": [],
   "source": [
    "class MultiHeadSelfAttention(Module):\n",
    "    def __init__(self, model_dim, num_heads, head_dim, max_seq_len):\n",
    "        self.Wq = Linear(model_dim, num_heads * head_dim)\n",
    "        self.Wk = Linear(model_dim, num_heads * head_dim)\n",
    "        self.Wv = Linear(model_dim, num_heads * head_dim)\n",
    "\n",
    "        # TODO:\n",
    "        # - causal mask\n",
    "    \n",
    "    def __call__(self, x):\n",
    "        assert isinstance(x, list) and isinstance(x[0], list) and isinstance(x[0][0], list) and isinstance(x[0][0][0], Value),\\\n",
    "            \"input to MHSA mechanism must be tensor of ndim==3 for (batch_size, seq_len, model_dim)\"\n",
    "        batch_size, seq_len, model_dim = len(x), len(x[0]), len(x[0][0])\n",
    "        assert self.model_dim == model_dim,\\\n",
    "            f\"input final dimension {model_dim} must equal MHSA mechanism's given model_dim value at initialization of {self.model_dim}\"\n",
    "\n",
    "        q = vector_wise_apply(self.Wq, x) # shape (batch_size, seq_len, num_heads * head_dim)\n",
    "        k = vector_wise_apply(self.Wk, x)\n",
    "        v = vector_wise_apply(self.Wv, x)\n",
    "        # oops i need a split_dim function to separate out num_heads from head_dim\n",
    "        pass"
   ]
  },
  {
   "cell_type": "code",
   "execution_count": null,
   "metadata": {},
   "outputs": [],
   "source": [
    "def split_dim(x, dims):\n",
    "    '''\n",
    "    splits input vector of shape (dims[0] + dims[1]) into matrix of shape (dims[0], dims[1])\n",
    "    '''\n",
    "    assert isinstance(x, list), \"x should be a list of Value objects\"\n",
    "    assert all(isinstance(idx, Value) for idx in x), \"All elements in x must be Value objects\"\n",
    "    # oops i need a vector_wise_apply() function that takes in extra arguments in order to make this work\n",
    "    pass\n",
    "    "
   ]
  },
  {
   "cell_type": "code",
   "execution_count": 6,
   "metadata": {},
   "outputs": [],
   "source": []
  },
  {
   "cell_type": "code",
   "execution_count": 8,
   "metadata": {},
   "outputs": [],
   "source": []
  },
  {
   "cell_type": "code",
   "execution_count": null,
   "metadata": {},
   "outputs": [],
   "source": [
    "\n",
    "\n"
   ]
  },
  {
   "cell_type": "code",
   "execution_count": null,
   "metadata": {},
   "outputs": [],
   "source": []
  },
  {
   "cell_type": "code",
   "execution_count": null,
   "metadata": {},
   "outputs": [],
   "source": []
  }
 ],
 "metadata": {
  "kernelspec": {
   "display_name": "Python 3 (ipykernel)",
   "language": "python",
   "name": "python3"
  },
  "language_info": {
   "codemirror_mode": {
    "name": "ipython",
    "version": 3
   },
   "file_extension": ".py",
   "mimetype": "text/x-python",
   "name": "python",
   "nbconvert_exporter": "python",
   "pygments_lexer": "ipython3",
   "version": "3.12.4"
  }
 },
 "nbformat": 4,
 "nbformat_minor": 4
}
