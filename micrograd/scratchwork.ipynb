{
 "cells": [
  {
   "cell_type": "code",
   "execution_count": 2,
   "metadata": {},
   "outputs": [],
   "source": [
    "import random as r\n",
    "\n",
    "from engine import Value\n",
    "from modules import *\n",
    "from ops import *\n",
    "from gpt import *"
   ]
  },
  {
   "cell_type": "code",
   "execution_count": 3,
   "metadata": {},
   "outputs": [],
   "source": [
    "batch_size = 2\n",
    "vocab_len = 10\n",
    "model_dim = 4\n",
    "seq_len = 3\n",
    "num_heads = 2\n",
    "head_dim = 2"
   ]
  },
  {
   "cell_type": "code",
   "execution_count": 8,
   "metadata": {},
   "outputs": [],
   "source": [
    "class MultiHeadSelfAttention(Module):\n",
    "    def __init__(self, model_dim, num_heads, head_dim, max_seq_len):\n",
    "        self.Wq = Linear(model_dim, num_heads * head_dim)\n",
    "        self.Wk = Linear(model_dim, num_heads * head_dim)\n",
    "        self.Wv = Linear(model_dim, num_heads * head_dim)\n",
    "\n",
    "        # TODO:\n",
    "        # - causal mask\n",
    "    \n",
    "    def __call__(self, x):\n",
    "        assert isinstance(x, list) and isinstance(x[0], list) and isinstance(x[0][0], list) and isinstance(x[0][0][0], Value),\\\n",
    "            \"input to MHSA mechanism must be tensor of ndim==3 for (batch_size, seq_len, model_dim)\"\n",
    "        batch_size, seq_len, model_dim = tuple(get_shape(x))\n",
    "        assert self.model_dim == model_dim,\\\n",
    "            f\"input final dimension {model_dim} must equal MHSA mechanism's given model_dim value at initialization of {self.model_dim}\"\n",
    "\n",
    "        q = vector_wise_apply(self.Wq, x) # shape (batch_size, seq_len, num_heads * head_dim)\n",
    "        k = vector_wise_apply(self.Wk, x) # Linear object is meant to take in a single vector, so we use vector_wise_apply\n",
    "        v = vector_wise_apply(self.Wv, x)\n",
    "\n",
    "        q = vector_wise_apply(split_dim, q, dims=(self.num_heads, self.head_dim)) # shape (batch_size, seq_len, num_heads, head_dim)\n",
    "        k = vector_wise_apply(split_dim, k, dims=(self.num_heads, self.head_dim))\n",
    "        v = vector_wise_apply(split_dim, v, dims=(self.num_heads, self.head_dim))\n",
    "        print(get_shape(q))\n",
    "        \n",
    "        pass"
   ]
  },
  {
   "cell_type": "code",
   "execution_count": 10,
   "metadata": {},
   "outputs": [],
   "source": []
  },
  {
   "cell_type": "code",
   "execution_count": null,
   "metadata": {},
   "outputs": [],
   "source": []
  },
  {
   "cell_type": "code",
   "execution_count": null,
   "metadata": {},
   "outputs": [],
   "source": []
  },
  {
   "cell_type": "code",
   "execution_count": null,
   "metadata": {},
   "outputs": [],
   "source": []
  }
 ],
 "metadata": {
  "kernelspec": {
   "display_name": "Python 3 (ipykernel)",
   "language": "python",
   "name": "python3"
  },
  "language_info": {
   "codemirror_mode": {
    "name": "ipython",
    "version": 3
   },
   "file_extension": ".py",
   "mimetype": "text/x-python",
   "name": "python",
   "nbconvert_exporter": "python",
   "pygments_lexer": "ipython3",
   "version": "3.12.4"
  }
 },
 "nbformat": 4,
 "nbformat_minor": 4
}
