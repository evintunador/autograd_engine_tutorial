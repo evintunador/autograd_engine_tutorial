{
 "cells": [
  {
   "cell_type": "code",
   "execution_count": 2,
   "metadata": {},
   "outputs": [],
   "source": [
    "import random as r\n",
    "\n",
    "from engine import Value\n",
    "from modules import *\n",
    "from ops import *\n",
    "from gpt import *"
   ]
  },
  {
   "cell_type": "code",
   "execution_count": 23,
   "metadata": {},
   "outputs": [],
   "source": [
    "batch_size = 2\n",
    "vocab_len = 10\n",
    "model_dim = 4\n",
    "max_seq_len = 5\n",
    "seq_len = 3\n",
    "num_heads = 2\n",
    "head_dim = 2"
   ]
  },
  {
   "cell_type": "code",
   "execution_count": 8,
   "metadata": {},
   "outputs": [],
   "source": [
    "class MultiHeadSelfAttention(Module):\n",
    "    def __init__(self, model_dim, num_heads, head_dim, max_seq_len):\n",
    "        self.Wq = Linear(model_dim, num_heads * head_dim)\n",
    "        self.Wk = Linear(model_dim, num_heads * head_dim)\n",
    "        self.Wv = Linear(model_dim, num_heads * head_dim)\n",
    "        self.Wo = Linear(num_heads * head_dim, model_dim)\n",
    "\n",
    "        self.mask = Mask(max_seq_len)\n",
    "\n",
    "        self.scale = head_dim ** -0.5\n",
    "    \n",
    "    def __call__(self, x):\n",
    "        assert isinstance(x, list) and isinstance(x[0], list) and isinstance(x[0][0], list) and isinstance(x[0][0][0], Value),\\\n",
    "            \"input to MHSA mechanism must be tensor of ndim==3 for (batch_size, seq_len, model_dim)\"\n",
    "        batch_size, seq_len, model_dim = tuple(get_shape(x))\n",
    "        assert self.model_dim == model_dim,\\\n",
    "            f\"input final dimension {model_dim} must equal MHSA mechanism's given model_dim value at initialization of {self.model_dim}\"\n",
    "\n",
    "        # apply query, key, and value projections to our input\n",
    "        q = vector_wise_apply(self.Wq, x) # shape (batch_size, seq_len, num_heads * head_dim)\n",
    "        k = vector_wise_apply(self.Wk, x) # Linear object is meant to take in a single vector, so we use vector_wise_apply\n",
    "        v = vector_wise_apply(self.Wv, x)\n",
    "        print(get_shape(q))\n",
    "\n",
    "        # split apart heads\n",
    "        q = vector_wise_apply(split_dim, q, dims=(self.num_heads, self.head_dim)) # shape (batch_size, seq_len, num_heads, head_dim)\n",
    "        k = vector_wise_apply(split_dim, k, dims=(self.num_heads, self.head_dim))\n",
    "        v = vector_wise_apply(split_dim, v, dims=(self.num_heads, self.head_dim))\n",
    "        print(get_shape(q))\n",
    "\n",
    "        # transpose to put seq_len in the path of the matmul for our attention computation\n",
    "        q = transpose(q, (1,2)) # shape (batch_size, num_heads, seq_len, head_dim)\n",
    "        k = transpose(k, (1,2))\n",
    "        v = transpose(v, (1,2))\n",
    "        print(get_shape(q))\n",
    "\n",
    "        # get keys ready for attention computation\n",
    "        k_t = transpose(k, (2,3)) # shape (batch_size, num_heads, head_dim, seq_len)\n",
    "        # compute attention logits\n",
    "        logits = tensor_matmul(q, k_t) # shape (batch_size, num_heads, seq_len, seq_len)\n",
    "        # scale logits\n",
    "        scaled_logits = vector_wise_apply(mult_vec_by_float, logits, self.scale)\n",
    "        # apply mask\n",
    "        masked_logits = matrix_wise_apply(self.mask.masked_fill, x)\n",
    "        # turn the logits into probability scores\n",
    "        scores = vector_wise_apply(softmax, masked_logits)\n",
    "\n",
    "        # use scores to select from values\n",
    "        output_values = tensor_matmul(scores, v) # shape (batch_size, num_heads, seq_len, head_dim)\n",
    "        # rearrange back to be of size model_dim\n",
    "        output_values = transpose(output_values, (1,2)) # shape (batch_size, seq_len, num_heads, head_dim)\n",
    "        # okay i need the opposite of split_dim\n",
    "        pass"
   ]
  },
  {
   "cell_type": "code",
   "execution_count": 122,
   "metadata": {},
   "outputs": [],
   "source": [
    "def flatten(mat):\n",
    "    assert isinstance(mat[0], list) and isinstance(mat[0][0], Value),\\\n",
    "        'mat should be a matrix (AKA list of list of Value objects)'\n",
    "    m, n = len(mat), len(mat[0])\n",
    "    return [mat[i][j] for i in range(m) for j in range(n)]"
   ]
  },
  {
   "cell_type": "code",
   "execution_count": null,
   "metadata": {},
   "outputs": [],
   "source": []
  },
  {
   "cell_type": "code",
   "execution_count": 127,
   "metadata": {},
   "outputs": [
    {
     "name": "stdout",
     "output_type": "stream",
     "text": [
      "[\n",
      "  [\n",
      "    [\n",
      "      [Value(data=0.872, grad=0.000), Value(data=0.104, grad=0.000)]\n",
      "      [Value(data=0.767, grad=0.000), Value(data=0.080, grad=0.000)]\n",
      "    ]\n",
      "    [\n",
      "      [Value(data=-0.861, grad=0.000), Value(data=0.657, grad=0.000)]\n",
      "      [Value(data=0.693, grad=0.000), Value(data=-0.794, grad=0.000)]\n",
      "    ]\n",
      "    [\n",
      "      [Value(data=0.796, grad=0.000), Value(data=-0.575, grad=0.000)]\n",
      "      [Value(data=0.736, grad=0.000), Value(data=-0.830, grad=0.000)]\n",
      "    ]\n",
      "  ]\n",
      "  [\n",
      "    [\n",
      "      [Value(data=-0.403, grad=0.000), Value(data=0.730, grad=0.000)]\n",
      "      [Value(data=0.912, grad=0.000), Value(data=-0.754, grad=0.000)]\n",
      "    ]\n",
      "    [\n",
      "      [Value(data=-0.281, grad=0.000), Value(data=-0.284, grad=0.000)]\n",
      "      [Value(data=-0.903, grad=0.000), Value(data=0.607, grad=0.000)]\n",
      "    ]\n",
      "    [\n",
      "      [Value(data=0.047, grad=0.000), Value(data=0.342, grad=0.000)]\n",
      "      [Value(data=-0.989, grad=0.000), Value(data=0.362, grad=0.000)]\n",
      "    ]\n",
      "  ]\n",
      "]\n",
      "[2, 3, 4]\n",
      "[\n",
      "  [\n",
      "    [Value(data=0.872, grad=0.000), Value(data=0.104, grad=0.000), Value(data=0.767, grad=0.000), Value(data=0.080, grad=0.000)]\n",
      "    [Value(data=-0.861, grad=0.000), Value(data=0.657, grad=0.000), Value(data=0.693, grad=0.000), Value(data=-0.794, grad=0.000)]\n",
      "    [Value(data=0.796, grad=0.000), Value(data=-0.575, grad=0.000), Value(data=0.736, grad=0.000), Value(data=-0.830, grad=0.000)]\n",
      "  ]\n",
      "  [\n",
      "    [Value(data=-0.403, grad=0.000), Value(data=0.730, grad=0.000), Value(data=0.912, grad=0.000), Value(data=-0.754, grad=0.000)]\n",
      "    [Value(data=-0.281, grad=0.000), Value(data=-0.284, grad=0.000), Value(data=-0.903, grad=0.000), Value(data=0.607, grad=0.000)]\n",
      "    [Value(data=0.047, grad=0.000), Value(data=0.342, grad=0.000), Value(data=-0.989, grad=0.000), Value(data=0.362, grad=0.000)]\n",
      "  ]\n",
      "]\n"
     ]
    }
   ],
   "source": [
    "x = [[[[Value(r.uniform(-1,1)) for _ in range(head_dim)]\n",
    "       for _ in range(num_heads)]\n",
    "      for _ in range(seq_len)]\n",
    "     for _ in range(batch_size)]\n",
    "pretty_print_tensor(x)\n",
    "y = matrix_wise_apply(flatten, x)\n",
    "print(get_shape(y))\n",
    "pretty_print_tensor(y)"
   ]
  },
  {
   "cell_type": "code",
   "execution_count": null,
   "metadata": {},
   "outputs": [],
   "source": []
  },
  {
   "cell_type": "code",
   "execution_count": null,
   "metadata": {},
   "outputs": [],
   "source": []
  }
 ],
 "metadata": {
  "kernelspec": {
   "display_name": "Python 3 (ipykernel)",
   "language": "python",
   "name": "python3"
  },
  "language_info": {
   "codemirror_mode": {
    "name": "ipython",
    "version": 3
   },
   "file_extension": ".py",
   "mimetype": "text/x-python",
   "name": "python",
   "nbconvert_exporter": "python",
   "pygments_lexer": "ipython3",
   "version": "3.12.4"
  }
 },
 "nbformat": 4,
 "nbformat_minor": 4
}
