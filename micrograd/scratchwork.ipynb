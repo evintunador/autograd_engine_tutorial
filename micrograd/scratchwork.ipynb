{
 "cells": [
  {
   "cell_type": "code",
   "execution_count": 28,
   "metadata": {},
   "outputs": [],
   "source": [
    "import random as r\n",
    "\n",
    "from engine import Value\n",
    "from nn import Module, Neuron, Linear, MLP\n",
    "from gpt import Embedding"
   ]
  },
  {
   "cell_type": "code",
   "execution_count": 30,
   "metadata": {},
   "outputs": [],
   "source": [
    "vocab_len = 5\n",
    "model_dim = 2\n",
    "seq_len = 3"
   ]
  },
  {
   "cell_type": "code",
   "execution_count": 32,
   "metadata": {},
   "outputs": [],
   "source": [
    "class Embedding(Module):\n",
    "    def __init__(self, num_classes: int, dim: int):\n",
    "        self.weight = [[Value(r.uniform(-1,1)) for _ in range(dim)] \n",
    "                       for _ in range(num_classes)]\n",
    "\n",
    "    def __call__(self, x):\n",
    "        # x should be list of integers\n",
    "        assert isinstance(x, list), \"x should be a list of integers\"\n",
    "        assert all(isinstance(idx, int) for idx in x), \"All elements in x must be integers\"\n",
    "        # grab embedding assigned to each token\n",
    "        out = [self.weight[idx] for idx in x]\n",
    "        return out[0] if len(out) == 1 else out\n",
    "\n",
    "    def __repr__(self):\n",
    "        weights_repr = \"\\n\".join(\n",
    "            f\"[{', '.join(str(p) for p in row)}]\" for row in self.weight\n",
    "        )\n",
    "        return f\"Embedding with weights:\\n{weights_repr}\"\n",
    "\n",
    "    def parameters(self):\n",
    "        return [p for c in self.weight for p in c]"
   ]
  },
  {
   "cell_type": "code",
   "execution_count": 34,
   "metadata": {},
   "outputs": [
    {
     "name": "stdout",
     "output_type": "stream",
     "text": [
      "Embedding with weights:\n",
      "[Value(data=-0.728, grad=0.000), Value(data=-0.589, grad=0.000)]\n",
      "[Value(data=-0.667, grad=0.000), Value(data=0.272, grad=0.000)]\n",
      "[Value(data=0.522, grad=0.000), Value(data=0.288, grad=0.000)]\n",
      "[Value(data=0.475, grad=0.000), Value(data=0.799, grad=0.000)]\n",
      "[Value(data=-0.737, grad=0.000), Value(data=-0.294, grad=0.000)]\n",
      "\n",
      "\n",
      "[[Value(data=-0.667, grad=0.000), Value(data=0.272, grad=0.000)], [Value(data=0.522, grad=0.000), Value(data=0.288, grad=0.000)], [Value(data=0.475, grad=0.000), Value(data=0.799, grad=0.000)]]\n"
     ]
    }
   ],
   "source": [
    "E = Embedding(vocab_len, model_dim)\n",
    "print(E)\n",
    "print('\\n')\n",
    "x = E([1,2,3])\n",
    "print(x)"
   ]
  },
  {
   "cell_type": "code",
   "execution_count": null,
   "metadata": {},
   "outputs": [],
   "source": []
  }
 ],
 "metadata": {
  "kernelspec": {
   "display_name": "Python 3 (ipykernel)",
   "language": "python",
   "name": "python3"
  },
  "language_info": {
   "codemirror_mode": {
    "name": "ipython",
    "version": 3
   },
   "file_extension": ".py",
   "mimetype": "text/x-python",
   "name": "python",
   "nbconvert_exporter": "python",
   "pygments_lexer": "ipython3",
   "version": "3.12.4"
  }
 },
 "nbformat": 4,
 "nbformat_minor": 4
}
