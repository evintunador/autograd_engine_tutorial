{
 "cells": [
  {
   "cell_type": "code",
   "execution_count": 3,
   "metadata": {},
   "outputs": [],
   "source": [
    "import random as r\n",
    "\n",
    "from engine import Value\n",
    "from modules import *\n",
    "from ops import *\n",
    "from gpt import *"
   ]
  },
  {
   "cell_type": "code",
   "execution_count": 5,
   "metadata": {},
   "outputs": [],
   "source": [
    "batch_size = 2\n",
    "vocab_len = 10\n",
    "model_dim = 8\n",
    "max_seq_len = 5\n",
    "seq_len = 3\n",
    "num_heads = 2\n",
    "head_dim = 4\n",
    "mlp_mult = 4"
   ]
  },
  {
   "cell_type": "code",
   "execution_count": 7,
   "metadata": {},
   "outputs": [],
   "source": [
    "class ResidualLayer(Module):\n",
    "    def __init__(self, model_dim, num_heads, head_dim, max_seq_len, mlp_mult):\n",
    "        self.mhsa = MultiHeadSelfAttention(model_dim, num_heads, head_dim, max_seq_len)\n",
    "        self.mlp = MultiLayerPerceptron(model_dim, mlp_mult * model_dim, model_dim)\n",
    "\n",
    "    def __call__(self, x):\n",
    "        x_normed = vector_wise_apply(layer_norm, x)\n",
    "        x_mhsa = self.mhsa(x_normed)\n",
    "        x_2 = entry_wise_add(x, x_mhsa)\n",
    "        x_2_normed = vector_wise_apply(layer_norm, x_2)\n",
    "        x_mlp = vector_wise_apply(self.mlp, x_2_normed)\n",
    "        return entry_wise_add(x_2, x_mlp)"
   ]
  },
  {
   "cell_type": "code",
   "execution_count": 14,
   "metadata": {},
   "outputs": [
    {
     "name": "stdout",
     "output_type": "stream",
     "text": [
      "[2, 3, 8]\n",
      "[2, 3, 8]\n"
     ]
    }
   ],
   "source": [
    "x = [[[Value(r.uniform(-1,1)) for _ in range(model_dim)]\n",
    "      for _ in range(seq_len)]\n",
    "     for _ in range(batch_size)]\n",
    "print(get_shape(x))\n",
    "layer = ResidualLayer(model_dim, num_heads, head_dim, max_seq_len, mlp_mult)\n",
    "y = layer(x)\n",
    "print(get_shape(y))"
   ]
  },
  {
   "cell_type": "code",
   "execution_count": null,
   "metadata": {},
   "outputs": [],
   "source": []
  },
  {
   "cell_type": "code",
   "execution_count": null,
   "metadata": {},
   "outputs": [],
   "source": []
  }
 ],
 "metadata": {
  "kernelspec": {
   "display_name": "Python 3 (ipykernel)",
   "language": "python",
   "name": "python3"
  },
  "language_info": {
   "codemirror_mode": {
    "name": "ipython",
    "version": 3
   },
   "file_extension": ".py",
   "mimetype": "text/x-python",
   "name": "python",
   "nbconvert_exporter": "python",
   "pygments_lexer": "ipython3",
   "version": "3.12.4"
  }
 },
 "nbformat": 4,
 "nbformat_minor": 4
}
