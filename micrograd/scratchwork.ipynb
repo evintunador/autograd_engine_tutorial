{
 "cells": [
  {
   "cell_type": "code",
   "execution_count": 3,
   "metadata": {},
   "outputs": [],
   "source": [
    "import random as r\n",
    "\n",
    "from engine import Value\n",
    "from basic_modules import *\n",
    "from basic_ops import *\n",
    "from gpt import *"
   ]
  },
  {
   "cell_type": "code",
   "execution_count": 5,
   "metadata": {},
   "outputs": [],
   "source": [
    "batch_size = 2\n",
    "vocab_len = 10\n",
    "model_dim = 4\n",
    "seq_len = 5\n",
    "num_heads = 2\n",
    "head_dim = 2"
   ]
  },
  {
   "cell_type": "code",
   "execution_count": null,
   "metadata": {},
   "outputs": [],
   "source": []
  },
  {
   "cell_type": "code",
   "execution_count": null,
   "metadata": {},
   "outputs": [],
   "source": []
  },
  {
   "cell_type": "code",
   "execution_count": null,
   "metadata": {},
   "outputs": [],
   "source": []
  },
  {
   "cell_type": "code",
   "execution_count": 22,
   "metadata": {},
   "outputs": [],
   "source": [
    "def mul(x, c):\n",
    "    '''\n",
    "    multiplies all elements in the vector x by the constant c\n",
    "    for division just input a fraction\n",
    "    '''\n",
    "    assert isinstance(x, list), \"x should be a list of Value objects\"\n",
    "    assert all(isinstance(idx, Value) for idx in x), \"All elements in x must be Value objects\"\n",
    "    return [val * c for val in x]\n",
    "\n",
    "def add(x, c):\n",
    "    '''\n",
    "    adds all elements in the vector x by the constant c\n",
    "    for subtraction just input a negative number\n",
    "    '''\n",
    "    assert isinstance(x, list), \"x should be a list of Value objects\"\n",
    "    assert all(isinstance(idx, Value) for idx in x), \"All elements in x must be Value objects\"\n",
    "    return [val + c for val in x]\n",
    "\n",
    "# ok so these aren't working cleanly with vector_wise_apply bc it only exxpects 1 input. \n",
    "    # can I somehow use **args or **kwargs? should learn those at some point"
   ]
  }
 ],
 "metadata": {
  "kernelspec": {
   "display_name": "Python 3 (ipykernel)",
   "language": "python",
   "name": "python3"
  },
  "language_info": {
   "codemirror_mode": {
    "name": "ipython",
    "version": 3
   },
   "file_extension": ".py",
   "mimetype": "text/x-python",
   "name": "python",
   "nbconvert_exporter": "python",
   "pygments_lexer": "ipython3",
   "version": "3.12.4"
  }
 },
 "nbformat": 4,
 "nbformat_minor": 4
}
