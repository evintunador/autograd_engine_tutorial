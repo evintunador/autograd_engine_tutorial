{
 "cells": [
  {
   "cell_type": "code",
   "execution_count": 2,
   "metadata": {},
   "outputs": [],
   "source": [
    "import random as r\n",
    "\n",
    "from engine import Value\n",
    "from modules import *\n",
    "from ops import *\n",
    "from gpt import *"
   ]
  },
  {
   "cell_type": "code",
   "execution_count": 3,
   "metadata": {},
   "outputs": [],
   "source": [
    "batch_size = 2\n",
    "vocab_len = 10\n",
    "model_dim = 8\n",
    "max_seq_len = 5\n",
    "seq_len = 3\n",
    "num_heads = 2\n",
    "head_dim = 4\n",
    "mlp_mult = 4"
   ]
  },
  {
   "cell_type": "code",
   "execution_count": 64,
   "metadata": {},
   "outputs": [],
   "source": [
    "class CrossEntropyLoss(Module):\n",
    "    def __init__(self, vocab_len: int, pad_token: int = None):\n",
    "        self.vocab_len = vocab_len\n",
    "        self.pad_token = pad_token\n",
    "\n",
    "    def __call__(self, logits, targets):\n",
    "        '''\n",
    "        inputs: \n",
    "        logits - list of lists of lists of shape (batch_size, seq_len, vocab_len) full of Value objects\n",
    "        targets - list of lists of shape (batch_size, seq_len) full of integers representing token indices\n",
    "\n",
    "        output: a single Value object representing loss of the model\n",
    "        '''\n",
    "        assert isinstance(targets, list) and isinstance(targets[0], list) and isinstance(targets[0][0], int)\n",
    "        assert len(logits) == len(targets) and len(logits[0]) == len(targets[0])\n",
    "        # prolly should assert that each vec in logits is a valid distribution (sums to 1), but i'm lazy\n",
    "                                                  \n",
    "        one_hots = vector_wise_apply(self._one_hot, targets)\n",
    "        log_logits = vector_wise_apply(log, logits)\n",
    "        individual_losses = entry_wise_mult(one_hots, log_logits)\n",
    "\n",
    "        # sum then multiply by -1\n",
    "        return -1 * vector_wise_apply(sum, vector_wise_apply(sum, vector_wise_apply(sum, individual_losses)))\n",
    "\n",
    "    def _one_hot(self, targets_vec):\n",
    "        '''\n",
    "        turns list of tokens into list of one-hot vectors with 1's at the index of the given token\n",
    "        meant to be used with vector_wise_apply\n",
    "        '''\n",
    "        assert all(isinstance(t, int) for t in targets_vec)\n",
    "        return [[0] * t + [1] + [0] * (vocab_len - t - 1) for t in targets_vec]"
   ]
  },
  {
   "cell_type": "code",
   "execution_count": 72,
   "metadata": {},
   "outputs": [
    {
     "name": "stdout",
     "output_type": "stream",
     "text": [
      "[\n",
      "  [\n",
      "    [Value(data=0.263, grad=0.000), Value(data=0.117, grad=0.000), Value(data=0.038, grad=0.000), Value(data=0.075, grad=0.000), Value(data=0.072, grad=0.000), Value(data=0.034, grad=0.000), Value(data=0.033, grad=0.000), Value(data=0.053, grad=0.000), Value(data=0.036, grad=0.000), Value(data=0.279, grad=0.000)]\n",
      "    [Value(data=0.131, grad=0.000), Value(data=0.035, grad=0.000), Value(data=0.055, grad=0.000), Value(data=0.043, grad=0.000), Value(data=0.157, grad=0.000), Value(data=0.281, grad=0.000), Value(data=0.077, grad=0.000), Value(data=0.065, grad=0.000), Value(data=0.035, grad=0.000), Value(data=0.122, grad=0.000)]\n",
      "    [Value(data=0.042, grad=0.000), Value(data=0.239, grad=0.000), Value(data=0.067, grad=0.000), Value(data=0.085, grad=0.000), Value(data=0.032, grad=0.000), Value(data=0.069, grad=0.000), Value(data=0.045, grad=0.000), Value(data=0.038, grad=0.000), Value(data=0.061, grad=0.000), Value(data=0.320, grad=0.000)]\n",
      "  ]\n",
      "  [\n",
      "    [Value(data=0.067, grad=0.000), Value(data=0.242, grad=0.000), Value(data=0.072, grad=0.000), Value(data=0.033, grad=0.000), Value(data=0.035, grad=0.000), Value(data=0.147, grad=0.000), Value(data=0.044, grad=0.000), Value(data=0.062, grad=0.000), Value(data=0.062, grad=0.000), Value(data=0.234, grad=0.000)]\n",
      "    [Value(data=0.046, grad=0.000), Value(data=0.057, grad=0.000), Value(data=0.055, grad=0.000), Value(data=0.052, grad=0.000), Value(data=0.128, grad=0.000), Value(data=0.211, grad=0.000), Value(data=0.087, grad=0.000), Value(data=0.072, grad=0.000), Value(data=0.050, grad=0.000), Value(data=0.242, grad=0.000)]\n",
      "    [Value(data=0.183, grad=0.000), Value(data=0.058, grad=0.000), Value(data=0.292, grad=0.000), Value(data=0.121, grad=0.000), Value(data=0.060, grad=0.000), Value(data=0.046, grad=0.000), Value(data=0.093, grad=0.000), Value(data=0.058, grad=0.000), Value(data=0.036, grad=0.000), Value(data=0.052, grad=0.000)]\n",
      "  ]\n",
      "]\n",
      "[\n",
      "  [4, 0, 1]\n",
      "  [5, 8, 6]\n",
      "]\n",
      "Value(data=13.371, grad=0.000)\n"
     ]
    }
   ],
   "source": [
    "logits = [[[Value(r.uniform(-1,1)).exp() for _ in range(vocab_len)]\n",
    "      for _ in range(seq_len)]\n",
    "     for _ in range(batch_size)]\n",
    "logits = vector_wise_apply(softmax, logits)\n",
    "pretty_print_tensor(logits)\n",
    "celoss = CrossEntropyLoss(vocab_len, pad_token = vocab_len - 1)\n",
    "targets = [[r.randint(0, vocab_len - 1) for _ in range(seq_len)]\n",
    "           for _ in range(batch_size)]\n",
    "pretty_print_tensor(targets)\n",
    "loss = celoss(logits, targets)\n",
    "print(loss)"
   ]
  },
  {
   "cell_type": "code",
   "execution_count": 48,
   "metadata": {},
   "outputs": [],
   "source": [
    "# TODO: make Embedding module also do unembedding w/ shared weights? \n",
    "# wouldn't be exactly faithful to pytorch implementation but i'd like to use gradient accumulation & save parameters"
   ]
  },
  {
   "cell_type": "code",
   "execution_count": null,
   "metadata": {},
   "outputs": [],
   "source": []
  },
  {
   "cell_type": "code",
   "execution_count": null,
   "metadata": {},
   "outputs": [],
   "source": []
  }
 ],
 "metadata": {
  "kernelspec": {
   "display_name": "Python 3 (ipykernel)",
   "language": "python",
   "name": "python3"
  },
  "language_info": {
   "codemirror_mode": {
    "name": "ipython",
    "version": 3
   },
   "file_extension": ".py",
   "mimetype": "text/x-python",
   "name": "python",
   "nbconvert_exporter": "python",
   "pygments_lexer": "ipython3",
   "version": "3.12.4"
  }
 },
 "nbformat": 4,
 "nbformat_minor": 4
}
