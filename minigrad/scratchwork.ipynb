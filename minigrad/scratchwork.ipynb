{
 "cells": [
  {
   "cell_type": "code",
   "execution_count": 2,
   "id": "f8fe8ac5-e6d0-4d03-b5af-65b87feaac08",
   "metadata": {},
   "outputs": [],
   "source": [
    "import numpy as np\n",
    "import random as r\n",
    "from engine import Tensor"
   ]
  },
  {
   "cell_type": "markdown",
   "id": "a5f2a2b4-6ad4-431f-b13a-1d9f7916e2ae",
   "metadata": {},
   "source": [
    "# odds i can figure out how to make micrograd using numpy arrays rather than floats?"
   ]
  },
  {
   "cell_type": "markdown",
   "id": "7aff66e8-440e-48ce-80bb-1969c0a80d84",
   "metadata": {},
   "source": [
    "### tests"
   ]
  },
  {
   "cell_type": "code",
   "execution_count": 6,
   "id": "fba7bc34-d13d-4459-8e32-e59add4ecb8c",
   "metadata": {},
   "outputs": [
    {
     "name": "stdout",
     "output_type": "stream",
     "text": [
      "(2, 2)\n",
      "(1, 2, 2)\n",
      "Tensor:\n",
      "([[[1. 2.]\n",
      "  [3. 4.]]])\n",
      "Grad:\n",
      "([[[0. 0.]\n",
      "  [0. 0.]]])\n"
     ]
    }
   ],
   "source": [
    "a = Tensor([[1.,2.],[3.,4.]])\n",
    "print(a.shape)\n",
    "b = a.unsqueeze(0)\n",
    "print(b.shape)\n",
    "print(b)"
   ]
  },
  {
   "cell_type": "code",
   "execution_count": 8,
   "id": "61da6aae-fada-4625-812d-c3926cb354eb",
   "metadata": {},
   "outputs": [
    {
     "name": "stdout",
     "output_type": "stream",
     "text": [
      "i = g * h\n",
      " Tensor:\n",
      "([[2. 6.]\n",
      " [8. 8.]])\n",
      "Grad:\n",
      "([[1. 1.]\n",
      " [1. 1.]])\n",
      "h\n",
      " Tensor:\n",
      "([1. 2.])\n",
      "Grad:\n",
      "([10.  7.])\n",
      "g = e + f\n",
      " Tensor:\n",
      "([[2. 3.]\n",
      " [8. 4.]])\n",
      "Grad:\n",
      "([[1. 2.]\n",
      " [1. 2.]])\n",
      "f\n",
      " Tensor:\n",
      "([2. 1.])\n",
      "Grad:\n",
      "([2. 4.])\n",
      "e = c * d\n",
      " Tensor:\n",
      "([[0. 2.]\n",
      " [6. 3.]])\n",
      "Grad:\n",
      "([[1. 2.]\n",
      " [1. 2.]])\n",
      "d\n",
      " Tensor:\n",
      "([[4. 2.]\n",
      " [3. 1.]])\n",
      "Grad:\n",
      "([[0. 2.]\n",
      " [2. 6.]])\n",
      "c = a + b\n",
      " Tensor:\n",
      "([[0. 1.]\n",
      " [2. 3.]])\n",
      "Grad:\n",
      "([[4. 4.]\n",
      " [3. 2.]])\n",
      "b\n",
      " Tensor:\n",
      "([[-1. -1.]\n",
      " [-1. -1.]])\n",
      "Grad:\n",
      "([[4. 4.]\n",
      " [3. 2.]])\n",
      "a\n",
      " Tensor:\n",
      "([[1. 2.]\n",
      " [3. 4.]])\n",
      "Grad:\n",
      "([[4. 4.]\n",
      " [3. 2.]])\n"
     ]
    }
   ],
   "source": [
    "# testing backprop on entry-wise add & mult operations, both same shame and broadcasting\n",
    "a = Tensor([[1.,2.],[3.,4.]])\n",
    "b = Tensor([[-1.,-1.],[-1.,-1.]])\n",
    "c = a + b\n",
    "d = Tensor([[4.,2.],[3.,1.]])\n",
    "e = c * d\n",
    "f = Tensor([2.,1.])\n",
    "g = e + f\n",
    "h = Tensor([1.,2.])\n",
    "i = g * h\n",
    "i.backward()\n",
    "print('i = g * h\\n', i)\n",
    "print('h\\n', h)\n",
    "print('g = e + f\\n', g)\n",
    "print('f\\n', f)\n",
    "print('e = c * d\\n', e)\n",
    "print('d\\n', d)\n",
    "print('c = a + b\\n', c)\n",
    "print('b\\n', b)\n",
    "print('a\\n', a)"
   ]
  },
  {
   "cell_type": "code",
   "execution_count": 10,
   "id": "d6ef6728-db7e-4bf5-8453-ffb6e741ab67",
   "metadata": {},
   "outputs": [
    {
     "name": "stdout",
     "output_type": "stream",
     "text": [
      "Tensor:\n",
      "([[ 1. -2.]\n",
      " [-3.  1.]])\n",
      "Grad:\n",
      "([[0. 0.]\n",
      " [0. 0.]])\n",
      "Tensor:\n",
      "([[ 1. -3.]\n",
      " [-2.  1.]])\n",
      "Grad:\n",
      "([[0. 0.]\n",
      " [0. 0.]])\n"
     ]
    }
   ],
   "source": [
    "c = Tensor([[1.,-2],[-3.,1.]])\n",
    "print(c)\n",
    "print(c.transpose())"
   ]
  },
  {
   "cell_type": "code",
   "execution_count": 12,
   "id": "d960bb7d-d00c-4d31-b2fa-2718f675a10e",
   "metadata": {},
   "outputs": [
    {
     "name": "stdout",
     "output_type": "stream",
     "text": [
      "Tensor:\n",
      "([[1. 2.]\n",
      " [3. 4.]])\n",
      "Grad:\n",
      "([[1. 1.]\n",
      " [1. 1.]])\n",
      "Tensor:\n",
      "([[1. 2.]\n",
      " [3. 4.]])\n",
      "Grad:\n",
      "([[1. 1.]\n",
      " [1. 1.]])\n",
      "Tensor:\n",
      "([[1. 0.]\n",
      " [0. 1.]])\n",
      "Grad:\n",
      "([[3. 7.]\n",
      " [3. 7.]])\n"
     ]
    }
   ],
   "source": [
    "a = Tensor([[1.,0],[0,1]])\n",
    "b = Tensor([[1.,2],[3,4]])\n",
    "c = a @ b\n",
    "c.backward()\n",
    "print(c)\n",
    "print(b)\n",
    "print(a)"
   ]
  },
  {
   "cell_type": "code",
   "execution_count": 14,
   "id": "ccb32875-5c2a-4a9b-9793-f5d744387492",
   "metadata": {},
   "outputs": [
    {
     "name": "stdout",
     "output_type": "stream",
     "text": [
      "Tensor:\n",
      "([[ 0.5  2.  -3. ]\n",
      " [ 2.   5.  -6. ]])\n",
      "Grad:\n",
      "([[0. 0. 0.]\n",
      " [0. 0. 0.]])\n"
     ]
    }
   ],
   "source": [
    "a = Tensor([[1,2,3],[4,5,6]])\n",
    "b = Tensor([2,1,-1])\n",
    "c = a / b\n",
    "print(c)"
   ]
  },
  {
   "cell_type": "code",
   "execution_count": 40,
   "id": "eeae6659-0b89-4851-82cd-fe52c6a724ae",
   "metadata": {},
   "outputs": [
    {
     "name": "stdout",
     "output_type": "stream",
     "text": [
      "Tensor:\n",
      "([[1 2 3]])\n",
      "Grad:\n",
      "([[0 0 0]])\n"
     ]
    }
   ],
   "source": [
    "a = Tensor([1,2,3])\n",
    "a = a.unsqueeze(0)\n",
    "print(a)"
   ]
  },
  {
   "cell_type": "code",
   "execution_count": 42,
   "id": "ea0431b6-3021-4ecc-b27a-c14bfa8ae880",
   "metadata": {},
   "outputs": [
    {
     "name": "stdout",
     "output_type": "stream",
     "text": [
      "Tensor:\n",
      "([[1]\n",
      " [2]\n",
      " [3]])\n",
      "Grad:\n",
      "([[0]\n",
      " [0]\n",
      " [0]])\n"
     ]
    }
   ],
   "source": [
    "a = Tensor([1,2,3])\n",
    "a = a.unsqueeze(1)\n",
    "print(a)"
   ]
  },
  {
   "cell_type": "code",
   "execution_count": 44,
   "id": "ad8452af-c567-4b46-8109-3c926458eb4d",
   "metadata": {},
   "outputs": [
    {
     "name": "stdout",
     "output_type": "stream",
     "text": [
      "Tensor:\n",
      "([[1 2 3]])\n",
      "Grad:\n",
      "([[0 0 0]])\n"
     ]
    },
    {
     "ename": "AssertionError",
     "evalue": "original shape must be 1 on dimension to be broadcast but is 3",
     "output_type": "error",
     "traceback": [
      "\u001b[0;31m---------------------------------------------------------------------------\u001b[0m",
      "\u001b[0;31mAssertionError\u001b[0m                            Traceback (most recent call last)",
      "Cell \u001b[0;32mIn[44], line 3\u001b[0m\n\u001b[1;32m      1\u001b[0m a \u001b[38;5;241m=\u001b[39m Tensor([\u001b[38;5;241m1\u001b[39m,\u001b[38;5;241m2\u001b[39m,\u001b[38;5;241m3\u001b[39m])\n\u001b[1;32m      2\u001b[0m \u001b[38;5;28mprint\u001b[39m(a\u001b[38;5;241m.\u001b[39munsqueeze(\u001b[38;5;241m0\u001b[39m))\n\u001b[0;32m----> 3\u001b[0m b \u001b[38;5;241m=\u001b[39m a\u001b[38;5;241m.\u001b[39mbroadcast_to((\u001b[38;5;241m3\u001b[39m,\u001b[38;5;241m3\u001b[39m))\n\u001b[1;32m      4\u001b[0m \u001b[38;5;28mprint\u001b[39m(b)\n",
      "File \u001b[0;32m~/repos/autograd_engine_tutorial/minigrad/engine.py:271\u001b[0m, in \u001b[0;36mTensor.broadcast_to\u001b[0;34m(self, shape)\u001b[0m\n\u001b[1;32m    269\u001b[0m     \u001b[38;5;28;01mif\u001b[39;00m \u001b[38;5;28mself\u001b[39m\u001b[38;5;241m.\u001b[39mshape[i] \u001b[38;5;241m!=\u001b[39m shape:\n\u001b[1;32m    270\u001b[0m         dim \u001b[38;5;241m=\u001b[39m i\n\u001b[0;32m--> 271\u001b[0m \u001b[38;5;28;01massert\u001b[39;00m dim \u001b[38;5;129;01mand\u001b[39;00m \u001b[38;5;28mself\u001b[39m\u001b[38;5;241m.\u001b[39mshape[dim] \u001b[38;5;241m==\u001b[39m \u001b[38;5;241m1\u001b[39m, \u001b[38;5;124mf\u001b[39m\u001b[38;5;124m\"\u001b[39m\u001b[38;5;124moriginal shape must be 1 on dimension to be broadcast but is \u001b[39m\u001b[38;5;132;01m{\u001b[39;00m\u001b[38;5;28mself\u001b[39m\u001b[38;5;241m.\u001b[39mshape[i]\u001b[38;5;132;01m}\u001b[39;00m\u001b[38;5;124m\"\u001b[39m\n\u001b[1;32m    272\u001b[0m out \u001b[38;5;241m=\u001b[39m Tensor(np\u001b[38;5;241m.\u001b[39mbroadcast_to(\u001b[38;5;28mself\u001b[39m\u001b[38;5;241m.\u001b[39mdata, shape), (\u001b[38;5;28mself\u001b[39m,))\n\u001b[1;32m    273\u001b[0m \u001b[38;5;28;01mdef\u001b[39;00m \u001b[38;5;21m_backward\u001b[39m():\n",
      "\u001b[0;31mAssertionError\u001b[0m: original shape must be 1 on dimension to be broadcast but is 3"
     ]
    }
   ],
   "source": [
    "a = Tensor([1,2,3])\n",
    "print(a.unsqueeze(0))\n",
    "b = a.broadcast_to((3,3))\n",
    "print(b)"
   ]
  },
  {
   "cell_type": "code",
   "execution_count": 46,
   "id": "6cdca926-454b-40cd-86f7-78a820c554f7",
   "metadata": {},
   "outputs": [
    {
     "name": "stdout",
     "output_type": "stream",
     "text": [
      "Tensor:\n",
      "([[1]\n",
      " [2]\n",
      " [3]])\n",
      "Grad:\n",
      "([[0]\n",
      " [0]\n",
      " [0]])\n"
     ]
    },
    {
     "ename": "AssertionError",
     "evalue": "original shape must be 1 on dimension to be broadcast but is 3",
     "output_type": "error",
     "traceback": [
      "\u001b[0;31m---------------------------------------------------------------------------\u001b[0m",
      "\u001b[0;31mAssertionError\u001b[0m                            Traceback (most recent call last)",
      "Cell \u001b[0;32mIn[46], line 3\u001b[0m\n\u001b[1;32m      1\u001b[0m a \u001b[38;5;241m=\u001b[39m Tensor([\u001b[38;5;241m1\u001b[39m,\u001b[38;5;241m2\u001b[39m,\u001b[38;5;241m3\u001b[39m])\n\u001b[1;32m      2\u001b[0m \u001b[38;5;28mprint\u001b[39m(a\u001b[38;5;241m.\u001b[39munsqueeze(\u001b[38;5;241m1\u001b[39m))\n\u001b[0;32m----> 3\u001b[0m b \u001b[38;5;241m=\u001b[39m a\u001b[38;5;241m.\u001b[39mbroadcast_to((\u001b[38;5;241m3\u001b[39m,\u001b[38;5;241m3\u001b[39m))\n\u001b[1;32m      4\u001b[0m \u001b[38;5;28mprint\u001b[39m(b)\n",
      "File \u001b[0;32m~/repos/autograd_engine_tutorial/minigrad/engine.py:271\u001b[0m, in \u001b[0;36mTensor.broadcast_to\u001b[0;34m(self, shape)\u001b[0m\n\u001b[1;32m    269\u001b[0m     \u001b[38;5;28;01mif\u001b[39;00m \u001b[38;5;28mself\u001b[39m\u001b[38;5;241m.\u001b[39mshape[i] \u001b[38;5;241m!=\u001b[39m shape:\n\u001b[1;32m    270\u001b[0m         dim \u001b[38;5;241m=\u001b[39m i\n\u001b[0;32m--> 271\u001b[0m \u001b[38;5;28;01massert\u001b[39;00m dim \u001b[38;5;129;01mand\u001b[39;00m \u001b[38;5;28mself\u001b[39m\u001b[38;5;241m.\u001b[39mshape[dim] \u001b[38;5;241m==\u001b[39m \u001b[38;5;241m1\u001b[39m, \u001b[38;5;124mf\u001b[39m\u001b[38;5;124m\"\u001b[39m\u001b[38;5;124moriginal shape must be 1 on dimension to be broadcast but is \u001b[39m\u001b[38;5;132;01m{\u001b[39;00m\u001b[38;5;28mself\u001b[39m\u001b[38;5;241m.\u001b[39mshape[i]\u001b[38;5;132;01m}\u001b[39;00m\u001b[38;5;124m\"\u001b[39m\n\u001b[1;32m    272\u001b[0m out \u001b[38;5;241m=\u001b[39m Tensor(np\u001b[38;5;241m.\u001b[39mbroadcast_to(\u001b[38;5;28mself\u001b[39m\u001b[38;5;241m.\u001b[39mdata, shape), (\u001b[38;5;28mself\u001b[39m,))\n\u001b[1;32m    273\u001b[0m \u001b[38;5;28;01mdef\u001b[39;00m \u001b[38;5;21m_backward\u001b[39m():\n",
      "\u001b[0;31mAssertionError\u001b[0m: original shape must be 1 on dimension to be broadcast but is 3"
     ]
    }
   ],
   "source": [
    "a = Tensor([1,2,3])\n",
    "print(a.unsqueeze(1))\n",
    "b = a.broadcast_to((3,3))\n",
    "print(b)"
   ]
  },
  {
   "cell_type": "code",
   "execution_count": null,
   "id": "9103fb10-46d2-49bc-a201-9a693ae13e2a",
   "metadata": {},
   "outputs": [],
   "source": [
    "# miniature NN\n",
    "x = Tensor(np.random.normal(size=(2,2)))\n",
    "print(x)\n",
    "w = Tensor(np.random.normal(size=(2,1)))\n",
    "print(w)\n",
    "b = Tensor(np.random.normal(size=(1,)))\n",
    "print(b)\n",
    "\n",
    "xw = x@w\n",
    "print(xw)\n",
    "n = xw+b\n",
    "print(n)\n",
    "o = n.tanh()\n",
    "print(o)"
   ]
  },
  {
   "cell_type": "code",
   "execution_count": null,
   "id": "050ed3ed-bdf4-4b1c-acee-306282029b07",
   "metadata": {},
   "outputs": [],
   "source": [
    "o.grad = np.ones_like(o.data) * -0.1\n",
    "print(o)"
   ]
  },
  {
   "cell_type": "code",
   "execution_count": null,
   "id": "0e2a213d-775a-418e-9d39-dba7009feb50",
   "metadata": {},
   "outputs": [],
   "source": [
    "o._backward()\n",
    "print(n)"
   ]
  },
  {
   "cell_type": "code",
   "execution_count": null,
   "id": "682e770a-3acb-4fd9-9aa1-abfe3e4630ce",
   "metadata": {},
   "outputs": [],
   "source": [
    "n._backward()\n",
    "print(xw)\n",
    "print(b) # ok so first case of this not working, the shape obvi makes no sense"
   ]
  },
  {
   "cell_type": "code",
   "execution_count": null,
   "id": "04a173ab-1508-4fe9-b9ce-1157ca66d84d",
   "metadata": {},
   "outputs": [],
   "source": [
    "xw._backward()\n",
    "print(x)\n",
    "print(w)"
   ]
  },
  {
   "cell_type": "code",
   "execution_count": null,
   "id": "0ef08f70-6218-48b4-85b0-9f14b9923c1a",
   "metadata": {},
   "outputs": [],
   "source": []
  },
  {
   "cell_type": "code",
   "execution_count": null,
   "id": "8aaf3f6c-6444-4e27-9d6f-b36100533aa7",
   "metadata": {},
   "outputs": [],
   "source": []
  },
  {
   "cell_type": "code",
   "execution_count": null,
   "id": "f99ec910-437a-4c53-8beb-f78f659b3ca8",
   "metadata": {},
   "outputs": [],
   "source": []
  }
 ],
 "metadata": {
  "kernelspec": {
   "display_name": "Python 3 (ipykernel)",
   "language": "python",
   "name": "python3"
  },
  "language_info": {
   "codemirror_mode": {
    "name": "ipython",
    "version": 3
   },
   "file_extension": ".py",
   "mimetype": "text/x-python",
   "name": "python",
   "nbconvert_exporter": "python",
   "pygments_lexer": "ipython3",
   "version": "3.12.4"
  }
 },
 "nbformat": 4,
 "nbformat_minor": 5
}
