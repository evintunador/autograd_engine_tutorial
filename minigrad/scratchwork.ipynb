{
 "cells": [
  {
   "cell_type": "code",
   "execution_count": 2,
   "id": "f8fe8ac5-e6d0-4d03-b5af-65b87feaac08",
   "metadata": {},
   "outputs": [],
   "source": [
    "import numpy as np\n",
    "import random as r\n",
    "from engine import Tensor\n",
    "import nn"
   ]
  },
  {
   "cell_type": "code",
   "execution_count": 3,
   "id": "0ef08f70-6218-48b4-85b0-9f14b9923c1a",
   "metadata": {},
   "outputs": [
    {
     "name": "stdout",
     "output_type": "stream",
     "text": [
      "Tensor:\n",
      "([[1. 2. 3.]\n",
      " [4. 5. 6.]])\n",
      "Grad:\n",
      "([[0. 0. 0.]\n",
      " [0. 0. 0.]])\n",
      "Tensor:\n",
      "([[ 0.34489883]\n",
      " [-0.36235954]\n",
      " [-0.1746805 ]])\n",
      "Grad:\n",
      "([[0.]\n",
      " [0.]\n",
      " [0.]])\n",
      "Tensor:\n",
      "([[0.0438577]])\n",
      "Grad:\n",
      "([[0.]])\n",
      "Tensor:\n",
      "([[-0.86000405]\n",
      " [-1.43642767]])\n",
      "Grad:\n",
      "([[0.]\n",
      " [0.]])\n"
     ]
    }
   ],
   "source": [
    "a = Tensor([[1.,2,3],[4,5,6]])\n",
    "print(a)\n",
    "w = nn.Linear(3, 1)\n",
    "print(w.weight)\n",
    "print(w.bias)\n",
    "b = w(a)\n",
    "print(b)"
   ]
  },
  {
   "cell_type": "code",
   "execution_count": 4,
   "id": "e4cab880-c8c8-40f5-a04a-9055c1e64251",
   "metadata": {},
   "outputs": [
    {
     "name": "stdout",
     "output_type": "stream",
     "text": [
      "Weight:\n",
      "(Tensor:\n",
      "([[ 0.34489883]\n",
      " [-0.36235954]\n",
      " [-0.1746805 ]])\n",
      "Grad:\n",
      "([[0.]\n",
      " [0.]\n",
      " [0.]]))\n",
      "Bias:\n",
      "(Tensor:\n",
      "([[0.0438577]])\n",
      "Grad:\n",
      "([[0.]]))\n"
     ]
    }
   ],
   "source": [
    "print(w)"
   ]
  },
  {
   "cell_type": "code",
   "execution_count": null,
   "id": "af850f8b-60c9-46f4-82de-b16493f2cb6a",
   "metadata": {},
   "outputs": [],
   "source": []
  }
 ],
 "metadata": {
  "kernelspec": {
   "display_name": "Python 3 (ipykernel)",
   "language": "python",
   "name": "python3"
  },
  "language_info": {
   "codemirror_mode": {
    "name": "ipython",
    "version": 3
   },
   "file_extension": ".py",
   "mimetype": "text/x-python",
   "name": "python",
   "nbconvert_exporter": "python",
   "pygments_lexer": "ipython3",
   "version": "3.12.4"
  }
 },
 "nbformat": 4,
 "nbformat_minor": 5
}
