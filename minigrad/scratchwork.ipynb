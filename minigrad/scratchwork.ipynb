{
 "cells": [
  {
   "cell_type": "code",
   "execution_count": 1,
   "id": "f8fe8ac5-e6d0-4d03-b5af-65b87feaac08",
   "metadata": {},
   "outputs": [],
   "source": [
    "import numpy as np\n",
    "import time\n",
    "import random as r\n",
    "\n",
    "from engine import Tensor\n",
    "import nn"
   ]
  },
  {
   "cell_type": "code",
   "execution_count": 2,
   "id": "e0a97175",
   "metadata": {},
   "outputs": [
    {
     "name": "stdout",
     "output_type": "stream",
     "text": [
      "[[15  7  5 50 58]\n",
      " [22 60  7 58  7]]\n",
      "[[ 7  5 50 58 22]\n",
      " [60  7 58  7 26]]\n"
     ]
    }
   ],
   "source": [
    "import random\n",
    "\n",
    "from model import GPT\n",
    "\n",
    "# load the dataset\n",
    "with open('../input.txt', 'r', encoding='utf-8') as f:\n",
    "    tinyShakespeare_string = f.read()\n",
    "\n",
    "# an atrocious terrible no-good tokenizer\n",
    "unique_chars = set(tinyShakespeare_string)\n",
    "v = len(unique_chars)\n",
    "encode_dict, decode_dict = {}, {}\n",
    "for i, c in enumerate(unique_chars):\n",
    "    encode_dict[c] = i\n",
    "    decode_dict[i] = c\n",
    "tinyShakespeare_chars = [encode_dict[c] for c in tinyShakespeare_string]\n",
    "\n",
    "# split into train vs validation datasets\n",
    "split_size = int(0.95 * len(tinyShakespeare_chars))\n",
    "train_dataset, val_dataset = tinyShakespeare_chars[:split_size], tinyShakespeare_chars[split_size:]\n",
    "\n",
    "# grab batch from datasets\n",
    "train_pointer, val_pointer = 0, 0\n",
    "def get_batch(batch_size, seq_len, val = False):\n",
    "    '''an atrocious terrible no-good way to get data batches'''\n",
    "    global train_pointer, val_pointer\n",
    "    dataset_size = len(tinyShakespeare_chars) - split_size if val else split_size\n",
    "    dataset = val_dataset if val else train_dataset\n",
    "    pointer = val_pointer if val else train_pointer\n",
    "    input_toks, target_toks = [], []\n",
    "    for b in range(batch_size):\n",
    "        input_toks.append([t for t in dataset[pointer + (b * seq_len):pointer + (b * seq_len) + seq_len]])\n",
    "        target_toks.append([t for t in dataset[pointer + (b * seq_len) + 1:pointer + (b * seq_len) + seq_len + 1]])\n",
    "    tok_ct = batch_size * seq_len\n",
    "    if val:\n",
    "        val_pointer += tok_ct\n",
    "    else:\n",
    "        train_pointer += tok_ct\n",
    "    return np.array(input_toks), np.array(target_toks)\n",
    "\n",
    "input_toks, target_toks = get_batch(2, 5)\n",
    "print(input_toks)\n",
    "print(target_toks)"
   ]
  },
  {
   "cell_type": "code",
   "execution_count": 3,
   "id": "85a1de81",
   "metadata": {},
   "outputs": [
    {
     "name": "stdout",
     "output_type": "stream",
     "text": [
      "train iterations: 1000, frequency of validation: 20\n"
     ]
    }
   ],
   "source": [
    "# define the model and all the hyperparameters\n",
    "config = {\n",
    "    'vocab_len':v,\n",
    "    'model_dim':32,\n",
    "    'max_seq_len':20,\n",
    "    'num_heads':4,\n",
    "    'head_dim':8,\n",
    "    'mlp_mult':4,\n",
    "    'dropout_rate':0.1,\n",
    "    'num_layers':2\n",
    "}\n",
    "model = GPT(config)\n",
    "\n",
    "eta = 0.01 # learning rate\n",
    "\n",
    "batch_size = 16\n",
    "toks_per_batch = batch_size * config['max_seq_len']\n",
    "train_iterations = min(split_size // toks_per_batch, 1000)\n",
    "val_iterations = min((len(tinyShakespeare_chars) - split_size) // toks_per_batch, 50)\n",
    "val_frequency = train_iterations // val_iterations\n",
    "print(f'train iterations: {train_iterations}, frequency of validation: {val_frequency}')\n",
    "\n",
    "# a very simple and nonrandom inference function\n",
    "def greedy_inference(model, input, gen_len):\n",
    "    gen_len = min(gen_len, config['max_seq_len'] - len(input) - 1)\n",
    "    toks = [encode_dict[c] for c in input]\n",
    "    for i in range(gen_len):\n",
    "        probabilities, _ = model(np.array([toks]))\n",
    "        toks.append(probabilities.max()[1][-1])\n",
    "    return \"\".join(decode_dict[t] for t in toks)"
   ]
  },
  {
   "cell_type": "code",
   "execution_count": 4,
   "id": "67cafa2a",
   "metadata": {},
   "outputs": [
    {
     "name": "stdout",
     "output_type": "stream",
     "text": [
      "abcHHHHHHHHHHHHHHHH\n"
     ]
    }
   ],
   "source": [
    "print(greedy_inference(model, \"abc\", 69))"
   ]
  },
  {
   "cell_type": "code",
   "execution_count": 5,
   "id": "a1c9521c",
   "metadata": {},
   "outputs": [
    {
     "name": "stdout",
     "output_type": "stream",
     "text": [
      "step 0 | train loss: [4.1744823] | val loss: [4.174482] | time: 0sec | example: King RiSSSSSSSSSS\n",
      "step 20 | train loss: [4.1636004] | val loss: [4.163471] | time: 0sec | example: King Ri          \n",
      "step 40 | train loss: [4.1553845] | val loss: [4.1550794] | time: 0sec | example: King Ri          \n",
      "step 60 | train loss: [4.146436] | val loss: [4.152606] | time: 0sec | example: King Ri          \n",
      "step 80 | train loss: [4.138959] | val loss: [4.1450887] | time: 0sec | example: King Ri          \n",
      "step 100 | train loss: [4.1275244] | val loss: [4.1298375] | time: 1sec | example: King Ri          \n",
      "step 120 | train loss: [4.115426] | val loss: [4.11551] | time: 1sec | example: King Ri          \n",
      "step 140 | train loss: [4.1179295] | val loss: [4.1057396] | time: 1sec | example: King Ri          \n",
      "step 160 | train loss: [4.084641] | val loss: [4.096025] | time: 1sec | example: King Ri          \n",
      "step 180 | train loss: [4.088012] | val loss: [4.0748377] | time: 2sec | example: King Ri          \n",
      "step 200 | train loss: [4.052212] | val loss: [4.0565376] | time: 2sec | example: King Ri          \n",
      "step 220 | train loss: [4.0336394] | val loss: [4.0354085] | time: 2sec | example: King Ri          \n",
      "step 240 | train loss: [3.9989765] | val loss: [3.9812024] | time: 2sec | example: King Ri          \n",
      "step 260 | train loss: [3.9271412] | val loss: [3.9552028] | time: 2sec | example: King Ri          \n",
      "step 280 | train loss: [3.9050522] | val loss: [3.893023] | time: 3sec | example: King Ri          \n",
      "step 300 | train loss: [3.811493] | val loss: [3.8258553] | time: 3sec | example: King Ri          \n",
      "step 320 | train loss: [3.6570275] | val loss: [3.752236] | time: 3sec | example: King Ri          \n",
      "step 340 | train loss: [3.6099675] | val loss: [3.6216636] | time: 3sec | example: King Ri          \n",
      "step 360 | train loss: [3.5276928] | val loss: [3.5960708] | time: 4sec | example: King Ri          \n",
      "step 380 | train loss: [3.5597] | val loss: [3.6052563] | time: 4sec | example: King Ri          \n",
      "step 400 | train loss: [3.4415479] | val loss: [3.5205307] | time: 4sec | example: King Ri          \n",
      "step 420 | train loss: [3.4667485] | val loss: [3.539] | time: 4sec | example: King Ri          \n",
      "step 440 | train loss: [3.3539062] | val loss: [3.3847191] | time: 5sec | example: King Ri          \n",
      "step 460 | train loss: [3.298856] | val loss: [3.4568748] | time: 5sec | example: King Ri          \n",
      "step 480 | train loss: [3.3460763] | val loss: [3.5314438] | time: 5sec | example: King Ri          \n",
      "step 500 | train loss: [3.4387155] | val loss: [3.573217] | time: 5sec | example: King Ri          \n",
      "step 520 | train loss: [3.447518] | val loss: [3.4518642] | time: 5sec | example: King Ri          \n",
      "step 540 | train loss: [3.3304627] | val loss: [3.404204] | time: 6sec | example: King Ri          \n",
      "step 560 | train loss: [3.4551628] | val loss: [3.4293933] | time: 6sec | example: King Ri          \n",
      "step 580 | train loss: [3.5110126] | val loss: [3.2923253] | time: 6sec | example: King Ri          \n",
      "step 600 | train loss: [3.3158703] | val loss: [3.54168] | time: 6sec | example: King Ri          \n",
      "step 620 | train loss: [3.3615468] | val loss: [3.4307926] | time: 7sec | example: King Ri          \n",
      "step 640 | train loss: [3.3415523] | val loss: [3.6816068] | time: 7sec | example: King Ri          \n",
      "step 660 | train loss: [3.547068] | val loss: [3.3740578] | time: 7sec | example: King Ri          \n",
      "step 680 | train loss: [3.266021] | val loss: [3.369334] | time: 7sec | example: King Ri          \n",
      "step 700 | train loss: [3.2943394] | val loss: [3.4651446] | time: 7sec | example: King Ri          \n",
      "step 720 | train loss: [3.3952534] | val loss: [3.4948583] | time: 8sec | example: King Ri          \n",
      "step 740 | train loss: [3.4476504] | val loss: [3.6270728] | time: 8sec | example: King Ri          \n",
      "step 760 | train loss: [3.2555027] | val loss: [3.2839787] | time: 8sec | example: King Ri          \n",
      "step 780 | train loss: [3.2072392] | val loss: [3.3265545] | time: 8sec | example: King Ri          \n",
      "step 800 | train loss: [3.2073147] | val loss: [3.5231051] | time: 9sec | example: King Ri          \n",
      "step 820 | train loss: [3.3435283] | val loss: [3.6296735] | time: 9sec | example: King Ri          \n",
      "step 840 | train loss: [3.524264] | val loss: [3.476143] | time: 9sec | example: King Ri          \n",
      "step 860 | train loss: [3.2920501] | val loss: [3.8010216] | time: 9sec | example: King Ri          \n",
      "step 880 | train loss: [3.7069087] | val loss: [3.4590726] | time: 10sec | example: King Ri          \n",
      "step 900 | train loss: [3.1961374] | val loss: [3.3443546] | time: 10sec | example: King Ri          \n",
      "step 920 | train loss: [3.39585] | val loss: [3.5153763] | time: 10sec | example: King Ri          \n",
      "step 940 | train loss: [3.3312194] | val loss: [3.3601406] | time: 10sec | example: King Ri          \n",
      "step 960 | train loss: [3.279337] | val loss: [3.3934536] | time: 11sec | example: King Ri          \n",
      "step 980 | train loss: [3.194652] | val loss: [3.8332412] | time: 11sec | example: King Ri          \n"
     ]
    },
    {
     "data": {
      "text/plain": [
       "'King Ri          '"
      ]
     },
     "execution_count": 5,
     "metadata": {},
     "output_type": "execute_result"
    }
   ],
   "source": [
    "start_time = time.time()\n",
    "for i in range(train_iterations):\n",
    "    # forward pass\n",
    "    train_input_toks, train_target_toks = get_batch(batch_size, config['max_seq_len'])\n",
    "    probabilities, train_loss = model(train_input_toks, train_target_toks)\n",
    "        \n",
    "    if i % val_frequency == 0:\n",
    "        val_input_toks, val_target_toks = get_batch(batch_size, config['max_seq_len'], val = True)\n",
    "        probabilities, val_loss = model(val_input_toks, val_target_toks)\n",
    "        \n",
    "        print(f'step {i} | train loss: {train_loss.data} | val loss: {val_loss.data} | ' \n",
    "                f'time: {int(time.time() - start_time)}sec | example: {greedy_inference(model, \"King Ri\", 10)}')\n",
    "\n",
    "    ## backward pass\n",
    "    #set param gradients to 0\n",
    "    for p in model.parameters():\n",
    "        p.zero_grad()\n",
    "    # clac gradients\n",
    "    train_loss.backward()\n",
    "    # performing a step of SGD\n",
    "    for p in model.parameters():\n",
    "        p.data -= eta * p.grad\n",
    "\n",
    "# a final display of wht the model has learned (not much)\n",
    "greedy_inference(model, \"King Ri\", 10)"
   ]
  },
  {
   "cell_type": "code",
   "execution_count": null,
   "id": "c551f559",
   "metadata": {},
   "outputs": [],
   "source": []
  },
  {
   "cell_type": "code",
   "execution_count": null,
   "id": "d4c02f11",
   "metadata": {},
   "outputs": [],
   "source": []
  }
 ],
 "metadata": {
  "kernelspec": {
   "display_name": "Python 3 (ipykernel)",
   "language": "python",
   "name": "python3"
  },
  "language_info": {
   "codemirror_mode": {
    "name": "ipython",
    "version": 3
   },
   "file_extension": ".py",
   "mimetype": "text/x-python",
   "name": "python",
   "nbconvert_exporter": "python",
   "pygments_lexer": "ipython3",
   "version": "3.12.4"
  }
 },
 "nbformat": 4,
 "nbformat_minor": 5
}
