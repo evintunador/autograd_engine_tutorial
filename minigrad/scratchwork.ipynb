{
 "cells": [
  {
   "cell_type": "code",
   "execution_count": 2,
   "id": "f8fe8ac5-e6d0-4d03-b5af-65b87feaac08",
   "metadata": {},
   "outputs": [],
   "source": [
    "import numpy as np\n",
    "import random as r\n",
    "from engine import Tensor"
   ]
  },
  {
   "cell_type": "code",
   "execution_count": 3,
   "id": "0ef08f70-6218-48b4-85b0-9f14b9923c1a",
   "metadata": {},
   "outputs": [
    {
     "name": "stdout",
     "output_type": "stream",
     "text": [
      "Tensor:\n",
      "([[[1. 2. 3.]\n",
      "  [4. 5. 6.]]])\n",
      "Grad:\n",
      "([[[0. 0. 0.]\n",
      "  [0. 0. 0.]]])\n",
      "Tensor:\n",
      "([[[1.]\n",
      "  [4.]]\n",
      "\n",
      " [[2.]\n",
      "  [5.]]\n",
      "\n",
      " [[3.]\n",
      "  [6.]]])\n",
      "Grad:\n",
      "([[[0.]\n",
      "  [0.]]\n",
      "\n",
      " [[0.]\n",
      "  [0.]]\n",
      "\n",
      " [[0.]\n",
      "  [0.]]])\n"
     ]
    }
   ],
   "source": [
    "a = Tensor([[[1.,2,3],[4,5,6]]])\n",
    "b = a.transpose((2,1,0))\n",
    "print(a)\n",
    "print(b)"
   ]
  },
  {
   "cell_type": "code",
   "execution_count": 4,
   "id": "e187b1dc-e1f4-4016-ba56-a41ffdf790a7",
   "metadata": {},
   "outputs": [
    {
     "name": "stdout",
     "output_type": "stream",
     "text": [
      "(1, 2, 3)\n"
     ]
    },
    {
     "ename": "TypeError",
     "evalue": "unsupported operand type(s) for +: 'generator' and 'tuple'",
     "output_type": "error",
     "traceback": [
      "\u001b[0;31m---------------------------------------------------------------------------\u001b[0m",
      "\u001b[0;31mTypeError\u001b[0m                                 Traceback (most recent call last)",
      "Cell \u001b[0;32mIn[4], line 1\u001b[0m\n\u001b[0;32m----> 1\u001b[0m c \u001b[38;5;241m=\u001b[39m a\u001b[38;5;241m.\u001b[39mtranspose()\n\u001b[1;32m      2\u001b[0m \u001b[38;5;28mprint\u001b[39m(c)\n",
      "File \u001b[0;32m~/repos/autograd_engine_tutorial/minigrad/engine.py:250\u001b[0m, in \u001b[0;36mTensor.transpose\u001b[0;34m(self, axes)\u001b[0m\n\u001b[1;32m    248\u001b[0m \u001b[38;5;28;01mif\u001b[39;00m axes \u001b[38;5;129;01mis\u001b[39;00m \u001b[38;5;28;01mNone\u001b[39;00m: \u001b[38;5;66;03m# defaults to transposing final to dims\u001b[39;00m\n\u001b[1;32m    249\u001b[0m     \u001b[38;5;28mprint\u001b[39m(\u001b[38;5;28mself\u001b[39m\u001b[38;5;241m.\u001b[39mshape)\n\u001b[0;32m--> 250\u001b[0m     axes \u001b[38;5;241m=\u001b[39m (dim \u001b[38;5;28;01mfor\u001b[39;00m dim \u001b[38;5;129;01min\u001b[39;00m \u001b[38;5;28mrange\u001b[39m(\u001b[38;5;28mself\u001b[39m\u001b[38;5;241m.\u001b[39mndim \u001b[38;5;241m-\u001b[39m \u001b[38;5;241m2\u001b[39m)) \u001b[38;5;241m+\u001b[39m (\u001b[38;5;28mself\u001b[39m\u001b[38;5;241m.\u001b[39mndim \u001b[38;5;241m-\u001b[39m \u001b[38;5;241m1\u001b[39m, \u001b[38;5;28mself\u001b[39m\u001b[38;5;241m.\u001b[39mndim \u001b[38;5;241m-\u001b[39m \u001b[38;5;241m2\u001b[39m)\n\u001b[1;32m    251\u001b[0m     \u001b[38;5;28mprint\u001b[39m(axes)\n\u001b[1;32m    252\u001b[0m out \u001b[38;5;241m=\u001b[39m Tensor(np\u001b[38;5;241m.\u001b[39mtranspose(\u001b[38;5;28mself\u001b[39m\u001b[38;5;241m.\u001b[39mdata, axes\u001b[38;5;241m=\u001b[39maxes), (\u001b[38;5;28mself\u001b[39m,))\n",
      "\u001b[0;31mTypeError\u001b[0m: unsupported operand type(s) for +: 'generator' and 'tuple'"
     ]
    }
   ],
   "source": [
    "c = a.transpose()\n",
    "print(c)"
   ]
  },
  {
   "cell_type": "code",
   "execution_count": 7,
   "id": "6c4197b4-aef4-4cd3-9316-587629a90bc5",
   "metadata": {},
   "outputs": [
    {
     "data": {
      "text/plain": [
       "tuple"
      ]
     },
     "execution_count": 7,
     "metadata": {},
     "output_type": "execute_result"
    }
   ],
   "source": [
    "type(a.shape)"
   ]
  },
  {
   "cell_type": "code",
   "execution_count": 9,
   "id": "3abd1e4d-e56c-48de-a464-812e03f8f647",
   "metadata": {},
   "outputs": [
    {
     "name": "stdout",
     "output_type": "stream",
     "text": [
      "(2, 2, 2)\n"
     ]
    }
   ],
   "source": [
    "print(a.shape[:-2] + (a.shape[-1], a.shape[-2]))"
   ]
  },
  {
   "cell_type": "code",
   "execution_count": 11,
   "id": "60554623-283e-4d8f-b974-86fa49a72cae",
   "metadata": {},
   "outputs": [
    {
     "data": {
      "text/plain": [
       "(2,)"
      ]
     },
     "execution_count": 11,
     "metadata": {},
     "output_type": "execute_result"
    }
   ],
   "source": [
    "a.shape[:-2]"
   ]
  },
  {
   "cell_type": "code",
   "execution_count": 13,
   "id": "ea37933e-fd07-4e07-a9b9-101aab52e323",
   "metadata": {},
   "outputs": [
    {
     "data": {
      "text/plain": [
       "(2, 2)"
      ]
     },
     "execution_count": 13,
     "metadata": {},
     "output_type": "execute_result"
    }
   ],
   "source": [
    "(a.shape[-1], a.shape[-2])"
   ]
  },
  {
   "cell_type": "code",
   "execution_count": null,
   "id": "e4cab880-c8c8-40f5-a04a-9055c1e64251",
   "metadata": {},
   "outputs": [],
   "source": []
  }
 ],
 "metadata": {
  "kernelspec": {
   "display_name": "Python 3 (ipykernel)",
   "language": "python",
   "name": "python3"
  },
  "language_info": {
   "codemirror_mode": {
    "name": "ipython",
    "version": 3
   },
   "file_extension": ".py",
   "mimetype": "text/x-python",
   "name": "python",
   "nbconvert_exporter": "python",
   "pygments_lexer": "ipython3",
   "version": "3.12.4"
  }
 },
 "nbformat": 4,
 "nbformat_minor": 5
}
