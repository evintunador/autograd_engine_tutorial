{
 "cells": [
  {
   "cell_type": "code",
   "execution_count": 2,
   "id": "f8fe8ac5-e6d0-4d03-b5af-65b87feaac08",
   "metadata": {},
   "outputs": [],
   "source": [
    "import numpy as np\n",
    "import random as r\n",
    "from engine import Tensor"
   ]
  },
  {
   "cell_type": "code",
   "execution_count": 3,
   "id": "0ef08f70-6218-48b4-85b0-9f14b9923c1a",
   "metadata": {},
   "outputs": [
    {
     "name": "stdout",
     "output_type": "stream",
     "text": [
      "Tensor:\n",
      "([[1. 2. 3.]\n",
      " [4. 5. 6.]])\n",
      "Grad:\n",
      "([[1.         0.5        0.33333333]\n",
      " [0.25       0.2        0.16666667]])\n",
      "Tensor:\n",
      "([[0.         0.69314718 1.09861229]\n",
      " [1.38629436 1.60943791 1.79175947]])\n",
      "Grad:\n",
      "([[1. 1. 1.]\n",
      " [1. 1. 1.]])\n"
     ]
    }
   ],
   "source": [
    "a = Tensor([[1.,2,3],[4,5,6]])\n",
    "b = a.log()\n",
    "b.backward()\n",
    "print(a)\n",
    "print(b)"
   ]
  },
  {
   "cell_type": "code",
   "execution_count": null,
   "id": "ac3586e6-7575-46a5-99a2-07ed927bd3b3",
   "metadata": {},
   "outputs": [],
   "source": []
  }
 ],
 "metadata": {
  "kernelspec": {
   "display_name": "Python 3 (ipykernel)",
   "language": "python",
   "name": "python3"
  },
  "language_info": {
   "codemirror_mode": {
    "name": "ipython",
    "version": 3
   },
   "file_extension": ".py",
   "mimetype": "text/x-python",
   "name": "python",
   "nbconvert_exporter": "python",
   "pygments_lexer": "ipython3",
   "version": "3.12.4"
  }
 },
 "nbformat": 4,
 "nbformat_minor": 5
}
