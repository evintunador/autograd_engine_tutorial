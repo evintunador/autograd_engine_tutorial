{
 "cells": [
  {
   "cell_type": "code",
   "execution_count": 2,
   "id": "f8fe8ac5-e6d0-4d03-b5af-65b87feaac08",
   "metadata": {},
   "outputs": [],
   "source": [
    "import numpy as np\n",
    "import random as r\n",
    "from engine import Tensor\n",
    "import nn"
   ]
  },
  {
   "cell_type": "code",
   "execution_count": 10,
   "id": "0ef08f70-6218-48b4-85b0-9f14b9923c1a",
   "metadata": {},
   "outputs": [],
   "source": [
    "x = Tensor(np.random.normal(scale=0.02, size=(100,100)))\n",
    "for i in range(100_000):\n",
    "    a = Tensor(np.random.normal(scale=0.02, size=(100,100)))\n",
    "    y = x / a"
   ]
  },
  {
   "cell_type": "code",
   "execution_count": 15,
   "id": "589f6307-af9b-49a1-ab00-54bf7e431edf",
   "metadata": {},
   "outputs": [],
   "source": [
    "for i in range(100_000):\n",
    "    a = Tensor(np.random.uniform(0,0.001, size=(100,100)))\n",
    "    b = a.log()"
   ]
  },
  {
   "cell_type": "code",
   "execution_count": null,
   "id": "5eb7ec96-3e7b-45b8-827e-67b05a89df82",
   "metadata": {},
   "outputs": [],
   "source": []
  }
 ],
 "metadata": {
  "kernelspec": {
   "display_name": "Python 3 (ipykernel)",
   "language": "python",
   "name": "python3"
  },
  "language_info": {
   "codemirror_mode": {
    "name": "ipython",
    "version": 3
   },
   "file_extension": ".py",
   "mimetype": "text/x-python",
   "name": "python",
   "nbconvert_exporter": "python",
   "pygments_lexer": "ipython3",
   "version": "3.12.4"
  }
 },
 "nbformat": 4,
 "nbformat_minor": 5
}
