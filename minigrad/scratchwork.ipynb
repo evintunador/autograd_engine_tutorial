{
 "cells": [
  {
   "cell_type": "code",
   "execution_count": 2,
   "id": "f8fe8ac5-e6d0-4d03-b5af-65b87feaac08",
   "metadata": {},
   "outputs": [],
   "source": [
    "import numpy as np\n",
    "import random as r\n",
    "from engine import Tensor"
   ]
  },
  {
   "cell_type": "code",
   "execution_count": 10,
   "id": "0ef08f70-6218-48b4-85b0-9f14b9923c1a",
   "metadata": {},
   "outputs": [
    {
     "name": "stdout",
     "output_type": "stream",
     "text": [
      "Tensor:\n",
      "([[ 0.5  2.  -3. ]\n",
      " [ 2.   5.  -6. ]])\n",
      "Grad:\n",
      "([[0. 0. 0.]\n",
      " [0. 0. 0.]])\n",
      "Tensor:\n",
      "([[0.5 1.  1.5]\n",
      " [4.  5.  6. ]])\n",
      "Grad:\n",
      "([[0. 0. 0.]\n",
      " [0. 0. 0.]])\n",
      "Tensor:\n",
      "([[ 1.  2.  3.]\n",
      " [-4. -5. -6.]])\n",
      "Grad:\n",
      "([[0. 0. 0.]\n",
      " [0. 0. 0.]])\n"
     ]
    }
   ],
   "source": [
    "a = Tensor([[1.,2,3],[4,5,6]])\n",
    "b = Tensor([2.,1,-1])\n",
    "c = Tensor([2.,1])\n",
    "d = Tensor([[1.,1,1],[-1,-1,-1]])\n",
    "print(a / b.unsqueeze(0))\n",
    "print(a / c.unsqueeze(1))\n",
    "print(a / d)"
   ]
  },
  {
   "cell_type": "code",
   "execution_count": null,
   "id": "f99ec910-437a-4c53-8beb-f78f659b3ca8",
   "metadata": {},
   "outputs": [],
   "source": []
  }
 ],
 "metadata": {
  "kernelspec": {
   "display_name": "Python 3 (ipykernel)",
   "language": "python",
   "name": "python3"
  },
  "language_info": {
   "codemirror_mode": {
    "name": "ipython",
    "version": 3
   },
   "file_extension": ".py",
   "mimetype": "text/x-python",
   "name": "python",
   "nbconvert_exporter": "python",
   "pygments_lexer": "ipython3",
   "version": "3.12.4"
  }
 },
 "nbformat": 4,
 "nbformat_minor": 5
}
