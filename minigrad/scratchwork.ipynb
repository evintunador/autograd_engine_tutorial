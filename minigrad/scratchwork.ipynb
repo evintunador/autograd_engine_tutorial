{
 "cells": [
  {
   "cell_type": "code",
   "execution_count": 2,
   "id": "f8fe8ac5-e6d0-4d03-b5af-65b87feaac08",
   "metadata": {},
   "outputs": [],
   "source": [
    "import numpy as np\n",
    "import random as r\n",
    "from engine import Tensor\n",
    "import nn"
   ]
  },
  {
   "cell_type": "code",
   "execution_count": 3,
   "id": "0ef08f70-6218-48b4-85b0-9f14b9923c1a",
   "metadata": {},
   "outputs": [
    {
     "name": "stdout",
     "output_type": "stream",
     "text": [
      "Tensor:\n",
      "([[[1. 2.]\n",
      "  [3. 4.]]\n",
      "\n",
      " [[5. 6.]\n",
      "  [7. 8.]]])\n",
      "Grad:\n",
      "([[[0. 0.]\n",
      "  [0. 0.]]\n",
      "\n",
      " [[0. 0.]\n",
      "  [0. 0.]]])\n",
      "Tensor:\n",
      "(8.0)\n",
      "Grad:\n",
      "(1.0)\n",
      "Tensor:\n",
      "([[[1. 2.]\n",
      "  [3. 4.]]\n",
      "\n",
      " [[5. 6.]\n",
      "  [7. 8.]]])\n",
      "Grad:\n",
      "([[[0. 0.]\n",
      "  [0. 0.]]\n",
      "\n",
      " [[0. 0.]\n",
      "  [0. 1.]]])\n"
     ]
    }
   ],
   "source": [
    "a = Tensor(np.array([[[1.,2],[3,4]],[[5,6],[7,8]]]), requires_grad=True)\n",
    "print(a)\n",
    "m = a.max()[0]\n",
    "m.backward()\n",
    "print(m)\n",
    "print(a)"
   ]
  },
  {
   "cell_type": "code",
   "execution_count": 4,
   "id": "ebc8cc1d-deab-42c1-8234-7cf229e74ea8",
   "metadata": {},
   "outputs": [
    {
     "name": "stdout",
     "output_type": "stream",
     "text": [
      "Tensor:\n",
      "([[[1. 2.]\n",
      "  [3. 4.]]\n",
      "\n",
      " [[5. 6.]\n",
      "  [7. 8.]]])\n",
      "Grad:\n",
      "([[[0. 0.]\n",
      "  [0. 0.]]\n",
      "\n",
      " [[0. 0.]\n",
      "  [0. 0.]]])\n",
      "Tensor:\n",
      "([[5. 6.]\n",
      " [7. 8.]])\n",
      "Grad:\n",
      "([[1. 1.]\n",
      " [1. 1.]])\n",
      "Tensor:\n",
      "([[[1. 2.]\n",
      "  [3. 4.]]\n",
      "\n",
      " [[5. 6.]\n",
      "  [7. 8.]]])\n",
      "Grad:\n",
      "([[[0. 0.]\n",
      "  [0. 0.]]\n",
      "\n",
      " [[1. 1.]\n",
      "  [1. 1.]]])\n"
     ]
    }
   ],
   "source": [
    "b = Tensor(np.array([[[1.,2],[3,4]],[[5,6],[7,8]]]), requires_grad=True)\n",
    "print(b)\n",
    "m = b.max(0)[0]\n",
    "m.backward()\n",
    "print(m)\n",
    "print(b)"
   ]
  },
  {
   "cell_type": "code",
   "execution_count": 5,
   "id": "4d2ee859-8494-4d63-a1e4-3b90b8707461",
   "metadata": {},
   "outputs": [
    {
     "name": "stdout",
     "output_type": "stream",
     "text": [
      "Tensor:\n",
      "([[[1. 2.]\n",
      "  [3. 4.]]\n",
      "\n",
      " [[5. 6.]\n",
      "  [7. 8.]]])\n",
      "Grad:\n",
      "([[[0. 0.]\n",
      "  [0. 0.]]\n",
      "\n",
      " [[0. 0.]\n",
      "  [0. 0.]]])\n",
      "Tensor:\n",
      "([[3. 4.]\n",
      " [7. 8.]])\n",
      "Grad:\n",
      "([[1. 1.]\n",
      " [1. 1.]])\n",
      "Tensor:\n",
      "([[[1. 2.]\n",
      "  [3. 4.]]\n",
      "\n",
      " [[5. 6.]\n",
      "  [7. 8.]]])\n",
      "Grad:\n",
      "([[[0. 0.]\n",
      "  [1. 1.]]\n",
      "\n",
      " [[0. 0.]\n",
      "  [1. 1.]]])\n"
     ]
    }
   ],
   "source": [
    "c = Tensor(np.array([[[1.,2],[3,4]],[[5,6],[7,8]]]), requires_grad=True)\n",
    "print(c)\n",
    "m = c.max(1)[0]\n",
    "m.backward()\n",
    "print(m)\n",
    "print(c)"
   ]
  },
  {
   "cell_type": "code",
   "execution_count": 6,
   "id": "2d9c2cc3-2646-4748-b830-de3a84cd54aa",
   "metadata": {},
   "outputs": [
    {
     "name": "stdout",
     "output_type": "stream",
     "text": [
      "Tensor:\n",
      "([[[1. 2.]\n",
      "  [3. 4.]]\n",
      "\n",
      " [[5. 6.]\n",
      "  [7. 8.]]])\n",
      "Grad:\n",
      "([[[0. 0.]\n",
      "  [0. 0.]]\n",
      "\n",
      " [[0. 0.]\n",
      "  [0. 0.]]])\n",
      "Tensor:\n",
      "([[2. 4.]\n",
      " [6. 8.]])\n",
      "Grad:\n",
      "([[1. 1.]\n",
      " [1. 1.]])\n",
      "Tensor:\n",
      "([[[1. 2.]\n",
      "  [3. 4.]]\n",
      "\n",
      " [[5. 6.]\n",
      "  [7. 8.]]])\n",
      "Grad:\n",
      "([[[0. 1.]\n",
      "  [0. 1.]]\n",
      "\n",
      " [[0. 1.]\n",
      "  [0. 1.]]])\n"
     ]
    }
   ],
   "source": [
    "d = Tensor(np.array([[[1.,2],[3,4]],[[5,6],[7,8]]]), requires_grad=True)\n",
    "print(d)\n",
    "m = d.max(2)[0]\n",
    "m.backward()\n",
    "print(m)\n",
    "print(d)"
   ]
  },
  {
   "cell_type": "code",
   "execution_count": null,
   "id": "589f6307-af9b-49a1-ab00-54bf7e431edf",
   "metadata": {},
   "outputs": [],
   "source": []
  }
 ],
 "metadata": {
  "kernelspec": {
   "display_name": "Python 3 (ipykernel)",
   "language": "python",
   "name": "python3"
  },
  "language_info": {
   "codemirror_mode": {
    "name": "ipython",
    "version": 3
   },
   "file_extension": ".py",
   "mimetype": "text/x-python",
   "name": "python",
   "nbconvert_exporter": "python",
   "pygments_lexer": "ipython3",
   "version": "3.12.4"
  }
 },
 "nbformat": 4,
 "nbformat_minor": 5
}
