{
 "cells": [
  {
   "cell_type": "code",
   "execution_count": 3,
   "id": "f8fe8ac5-e6d0-4d03-b5af-65b87feaac08",
   "metadata": {},
   "outputs": [],
   "source": [
    "import numpy as np\n",
    "import random as r\n",
    "from engine import Tensor"
   ]
  },
  {
   "cell_type": "code",
   "execution_count": 8,
   "id": "0ef08f70-6218-48b4-85b0-9f14b9923c1a",
   "metadata": {},
   "outputs": [
    {
     "name": "stdout",
     "output_type": "stream",
     "text": [
      "Tensor:\n",
      "([[1. 2. 3. 4.]\n",
      " [5. 6. 7. 8.]])\n",
      "Grad:\n",
      "([[0. 0. 0. 0.]\n",
      " [0. 0. 0. 0.]])\n",
      "Tensor:\n",
      "([[[1. 2.]\n",
      "  [3. 4.]]\n",
      "\n",
      " [[5. 6.]\n",
      "  [7. 8.]]])\n",
      "Grad:\n",
      "([[[0. 0.]\n",
      "  [0. 0.]]\n",
      "\n",
      " [[0. 0.]\n",
      "  [0. 0.]]])\n",
      "Tensor:\n",
      "([1. 2. 3. 4. 5. 6. 7. 8.])\n",
      "Grad:\n",
      "([0. 0. 0. 0. 0. 0. 0. 0.])\n"
     ]
    }
   ],
   "source": [
    "a = Tensor([[1.,2,3,4],[5,6,7,8]])\n",
    "b = a.reshape((2,2,2))\n",
    "c = b.reshape((8))\n",
    "print(a)\n",
    "print(b)\n",
    "print(c)"
   ]
  },
  {
   "cell_type": "code",
   "execution_count": null,
   "id": "ac3586e6-7575-46a5-99a2-07ed927bd3b3",
   "metadata": {},
   "outputs": [],
   "source": []
  }
 ],
 "metadata": {
  "kernelspec": {
   "display_name": "Python 3 (ipykernel)",
   "language": "python",
   "name": "python3"
  },
  "language_info": {
   "codemirror_mode": {
    "name": "ipython",
    "version": 3
   },
   "file_extension": ".py",
   "mimetype": "text/x-python",
   "name": "python",
   "nbconvert_exporter": "python",
   "pygments_lexer": "ipython3",
   "version": "3.12.4"
  }
 },
 "nbformat": 4,
 "nbformat_minor": 5
}
